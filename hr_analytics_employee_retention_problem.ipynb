{
 "cells": [
  {
   "cell_type": "markdown",
   "metadata": {},
   "source": [
    "## Human Resource Analytics\n",
    "Demonstration of data cleaning and problem solving using the [Human Resource Analytics data set from Kaggle](https://www.kaggle.com/cezarschroeder/human-resource-analytics-dataset/data).\n",
    "\n",
    "### Step 1: Examine the data and plan\n",
    "First, look at the data to determine a plan for cleaning and analysing it."
   ]
  },
  {
   "cell_type": "code",
   "execution_count": 1,
   "metadata": {},
   "outputs": [],
   "source": [
    "# Load the data using Pandas\n",
    "import pandas as pd\n",
    "df = pd.read_csv('./hr_data.csv')"
   ]
  },
  {
   "cell_type": "code",
   "execution_count": 2,
   "metadata": {},
   "outputs": [
    {
     "data": {
      "text/plain": [
       "Index(['satisfaction_level', 'last_evaluation', 'number_project',\n",
       "       'average_montly_hours', 'time_spend_company', 'work_accident', 'left',\n",
       "       'promotion_last_5years', 'is_smoker', 'department', 'salary'],\n",
       "      dtype='object')"
      ]
     },
     "execution_count": 2,
     "metadata": {},
     "output_type": "execute_result"
    }
   ],
   "source": [
    "# Check and make sure the data has loaded as expected\n",
    "df.columns"
   ]
  },
  {
   "cell_type": "code",
   "execution_count": 3,
   "metadata": {},
   "outputs": [
    {
     "data": {
      "text/html": [
       "<div>\n",
       "<style scoped>\n",
       "    .dataframe tbody tr th:only-of-type {\n",
       "        vertical-align: middle;\n",
       "    }\n",
       "\n",
       "    .dataframe tbody tr th {\n",
       "        vertical-align: top;\n",
       "    }\n",
       "\n",
       "    .dataframe thead th {\n",
       "        text-align: right;\n",
       "    }\n",
       "</style>\n",
       "<table border=\"1\" class=\"dataframe\">\n",
       "  <thead>\n",
       "    <tr style=\"text-align: right;\">\n",
       "      <th></th>\n",
       "      <th>satisfaction_level</th>\n",
       "      <th>last_evaluation</th>\n",
       "      <th>number_project</th>\n",
       "      <th>average_montly_hours</th>\n",
       "      <th>time_spend_company</th>\n",
       "      <th>work_accident</th>\n",
       "      <th>left</th>\n",
       "      <th>promotion_last_5years</th>\n",
       "      <th>is_smoker</th>\n",
       "      <th>department</th>\n",
       "      <th>salary</th>\n",
       "    </tr>\n",
       "  </thead>\n",
       "  <tbody>\n",
       "    <tr>\n",
       "      <th>0</th>\n",
       "      <td>0.38</td>\n",
       "      <td>0.53</td>\n",
       "      <td>2</td>\n",
       "      <td>157.0</td>\n",
       "      <td>3.0</td>\n",
       "      <td>0</td>\n",
       "      <td>yes</td>\n",
       "      <td>0</td>\n",
       "      <td>NaN</td>\n",
       "      <td>sales</td>\n",
       "      <td>low</td>\n",
       "    </tr>\n",
       "    <tr>\n",
       "      <th>1</th>\n",
       "      <td>0.80</td>\n",
       "      <td>0.86</td>\n",
       "      <td>5</td>\n",
       "      <td>262.0</td>\n",
       "      <td>6.0</td>\n",
       "      <td>0</td>\n",
       "      <td>yes</td>\n",
       "      <td>0</td>\n",
       "      <td>yes</td>\n",
       "      <td>sales</td>\n",
       "      <td>medium</td>\n",
       "    </tr>\n",
       "    <tr>\n",
       "      <th>2</th>\n",
       "      <td>0.11</td>\n",
       "      <td>0.88</td>\n",
       "      <td>7</td>\n",
       "      <td>272.0</td>\n",
       "      <td>4.0</td>\n",
       "      <td>0</td>\n",
       "      <td>yes</td>\n",
       "      <td>0</td>\n",
       "      <td>NaN</td>\n",
       "      <td>sales</td>\n",
       "      <td>medium</td>\n",
       "    </tr>\n",
       "    <tr>\n",
       "      <th>3</th>\n",
       "      <td>0.72</td>\n",
       "      <td>0.87</td>\n",
       "      <td>5</td>\n",
       "      <td>223.0</td>\n",
       "      <td>5.0</td>\n",
       "      <td>0</td>\n",
       "      <td>yes</td>\n",
       "      <td>0</td>\n",
       "      <td>NaN</td>\n",
       "      <td>sales</td>\n",
       "      <td>low</td>\n",
       "    </tr>\n",
       "    <tr>\n",
       "      <th>4</th>\n",
       "      <td>0.37</td>\n",
       "      <td>0.52</td>\n",
       "      <td>2</td>\n",
       "      <td>NaN</td>\n",
       "      <td>NaN</td>\n",
       "      <td>0</td>\n",
       "      <td>yes</td>\n",
       "      <td>0</td>\n",
       "      <td>no</td>\n",
       "      <td>sales</td>\n",
       "      <td>low</td>\n",
       "    </tr>\n",
       "  </tbody>\n",
       "</table>\n",
       "</div>"
      ],
      "text/plain": [
       "   satisfaction_level  last_evaluation  number_project  average_montly_hours  \\\n",
       "0                0.38             0.53               2                 157.0   \n",
       "1                0.80             0.86               5                 262.0   \n",
       "2                0.11             0.88               7                 272.0   \n",
       "3                0.72             0.87               5                 223.0   \n",
       "4                0.37             0.52               2                   NaN   \n",
       "\n",
       "   time_spend_company  work_accident left  promotion_last_5years is_smoker  \\\n",
       "0                 3.0              0  yes                      0       NaN   \n",
       "1                 6.0              0  yes                      0       yes   \n",
       "2                 4.0              0  yes                      0       NaN   \n",
       "3                 5.0              0  yes                      0       NaN   \n",
       "4                 NaN              0  yes                      0        no   \n",
       "\n",
       "  department  salary  \n",
       "0      sales     low  \n",
       "1      sales  medium  \n",
       "2      sales  medium  \n",
       "3      sales     low  \n",
       "4      sales     low  "
      ]
     },
     "execution_count": 3,
     "metadata": {},
     "output_type": "execute_result"
    }
   ],
   "source": [
    "df.head()"
   ]
  },
  {
   "cell_type": "code",
   "execution_count": 4,
   "metadata": {},
   "outputs": [
    {
     "data": {
      "text/html": [
       "<div>\n",
       "<style scoped>\n",
       "    .dataframe tbody tr th:only-of-type {\n",
       "        vertical-align: middle;\n",
       "    }\n",
       "\n",
       "    .dataframe tbody tr th {\n",
       "        vertical-align: top;\n",
       "    }\n",
       "\n",
       "    .dataframe thead th {\n",
       "        text-align: right;\n",
       "    }\n",
       "</style>\n",
       "<table border=\"1\" class=\"dataframe\">\n",
       "  <thead>\n",
       "    <tr style=\"text-align: right;\">\n",
       "      <th></th>\n",
       "      <th>satisfaction_level</th>\n",
       "      <th>last_evaluation</th>\n",
       "      <th>number_project</th>\n",
       "      <th>average_montly_hours</th>\n",
       "      <th>time_spend_company</th>\n",
       "      <th>work_accident</th>\n",
       "      <th>left</th>\n",
       "      <th>promotion_last_5years</th>\n",
       "      <th>is_smoker</th>\n",
       "      <th>department</th>\n",
       "      <th>salary</th>\n",
       "    </tr>\n",
       "  </thead>\n",
       "  <tbody>\n",
       "    <tr>\n",
       "      <th>14994</th>\n",
       "      <td>0.40</td>\n",
       "      <td>0.57</td>\n",
       "      <td>2</td>\n",
       "      <td>151.0</td>\n",
       "      <td>3.0</td>\n",
       "      <td>0</td>\n",
       "      <td>yes</td>\n",
       "      <td>0</td>\n",
       "      <td>NaN</td>\n",
       "      <td>support</td>\n",
       "      <td>low</td>\n",
       "    </tr>\n",
       "    <tr>\n",
       "      <th>14995</th>\n",
       "      <td>0.37</td>\n",
       "      <td>0.48</td>\n",
       "      <td>2</td>\n",
       "      <td>160.0</td>\n",
       "      <td>3.0</td>\n",
       "      <td>0</td>\n",
       "      <td>yes</td>\n",
       "      <td>0</td>\n",
       "      <td>NaN</td>\n",
       "      <td>support</td>\n",
       "      <td>low</td>\n",
       "    </tr>\n",
       "    <tr>\n",
       "      <th>14996</th>\n",
       "      <td>0.37</td>\n",
       "      <td>0.53</td>\n",
       "      <td>2</td>\n",
       "      <td>143.0</td>\n",
       "      <td>3.0</td>\n",
       "      <td>0</td>\n",
       "      <td>yes</td>\n",
       "      <td>0</td>\n",
       "      <td>NaN</td>\n",
       "      <td>support</td>\n",
       "      <td>low</td>\n",
       "    </tr>\n",
       "    <tr>\n",
       "      <th>14997</th>\n",
       "      <td>0.11</td>\n",
       "      <td>0.96</td>\n",
       "      <td>6</td>\n",
       "      <td>280.0</td>\n",
       "      <td>4.0</td>\n",
       "      <td>0</td>\n",
       "      <td>yes</td>\n",
       "      <td>0</td>\n",
       "      <td>NaN</td>\n",
       "      <td>support</td>\n",
       "      <td>low</td>\n",
       "    </tr>\n",
       "    <tr>\n",
       "      <th>14998</th>\n",
       "      <td>0.37</td>\n",
       "      <td>0.52</td>\n",
       "      <td>2</td>\n",
       "      <td>158.0</td>\n",
       "      <td>3.0</td>\n",
       "      <td>0</td>\n",
       "      <td>yes</td>\n",
       "      <td>0</td>\n",
       "      <td>NaN</td>\n",
       "      <td>support</td>\n",
       "      <td>low</td>\n",
       "    </tr>\n",
       "  </tbody>\n",
       "</table>\n",
       "</div>"
      ],
      "text/plain": [
       "       satisfaction_level  last_evaluation  number_project  \\\n",
       "14994                0.40             0.57               2   \n",
       "14995                0.37             0.48               2   \n",
       "14996                0.37             0.53               2   \n",
       "14997                0.11             0.96               6   \n",
       "14998                0.37             0.52               2   \n",
       "\n",
       "       average_montly_hours  time_spend_company  work_accident left  \\\n",
       "14994                 151.0                 3.0              0  yes   \n",
       "14995                 160.0                 3.0              0  yes   \n",
       "14996                 143.0                 3.0              0  yes   \n",
       "14997                 280.0                 4.0              0  yes   \n",
       "14998                 158.0                 3.0              0  yes   \n",
       "\n",
       "       promotion_last_5years is_smoker department salary  \n",
       "14994                      0       NaN    support    low  \n",
       "14995                      0       NaN    support    low  \n",
       "14996                      0       NaN    support    low  \n",
       "14997                      0       NaN    support    low  \n",
       "14998                      0       NaN    support    low  "
      ]
     },
     "execution_count": 4,
     "metadata": {},
     "output_type": "execute_result"
    }
   ],
   "source": [
    "df.tail()"
   ]
  },
  {
   "cell_type": "code",
   "execution_count": 5,
   "metadata": {},
   "outputs": [
    {
     "name": "stdout",
     "output_type": "stream",
     "text": [
      "15000\n"
     ]
    }
   ],
   "source": [
    "# Check the number of rows - make sure we got them all\n",
    "with open('./hr_data.csv') as f:\n",
    "    print(len(f.read().splitlines()))"
   ]
  },
  {
   "cell_type": "code",
   "execution_count": 6,
   "metadata": {},
   "outputs": [
    {
     "data": {
      "text/plain": [
       "14999"
      ]
     },
     "execution_count": 6,
     "metadata": {},
     "output_type": "execute_result"
    }
   ],
   "source": [
    "len(df) # We expect this to be 14999 as one row is the header"
   ]
  },
  {
   "cell_type": "markdown",
   "metadata": {},
   "source": [
    "### Initial thoughts\n",
    "Data is there as expected, though there are some columns with NaN values that need cleaning. Data for some features may also need to be converted into numeric data for analysis. \n",
    "\n",
    "### Check distribution and missing data\n",
    "We've been asked to find patterns that could improve employee retention. We can therefore use the \"left\" column as a target. First step is to check the distribution of \"left\" and make sure we don't have missing data for the \"left\" column."
   ]
  },
  {
   "cell_type": "code",
   "execution_count": 7,
   "metadata": {},
   "outputs": [
    {
     "name": "stdout",
     "output_type": "stream",
     "text": [
      "0\n"
     ]
    },
    {
     "data": {
      "image/png": "[encoded data removed]",
      "text/plain": [
       "<Figure size 432x288 with 1 Axes>"
      ]
     },
     "metadata": {
      "needs_background": "light"
     },
     "output_type": "display_data"
    }
   ],
   "source": [
    "# Distribution - graph it\n",
    "df.left.value_counts().plot(kind='barh')\n",
    "\n",
    "# Missing data - any nulls?\n",
    "print(df.left.isnull().sum())"
   ]
  },
  {
   "cell_type": "code",
   "execution_count": 8,
   "metadata": {},
   "outputs": [
    {
     "data": {
      "text/plain": [
       "satisfaction_level       float64\n",
       "last_evaluation          float64\n",
       "number_project             int64\n",
       "average_montly_hours     float64\n",
       "time_spend_company       float64\n",
       "work_accident              int64\n",
       "left                      object\n",
       "promotion_last_5years      int64\n",
       "is_smoker                 object\n",
       "department                object\n",
       "salary                    object\n",
       "dtype: object"
      ]
     },
     "execution_count": 8,
     "metadata": {},
     "output_type": "execute_result"
    }
   ],
   "source": [
    "# Print the datatypes of the columns\n",
    "df.dtypes"
   ]
  },
  {
   "cell_type": "code",
   "execution_count": 9,
   "metadata": {},
   "outputs": [
    {
     "data": {
      "text/plain": [
       "satisfaction_level        0.000000\n",
       "last_evaluation           0.000000\n",
       "number_project            0.000000\n",
       "average_montly_hours      2.453497\n",
       "time_spend_company        1.006734\n",
       "work_accident             0.000000\n",
       "left                      0.000000\n",
       "promotion_last_5years     0.000000\n",
       "is_smoker                98.433229\n",
       "department                0.000000\n",
       "salary                    0.000000\n",
       "dtype: float64"
      ]
     },
     "execution_count": 9,
     "metadata": {},
     "output_type": "execute_result"
    }
   ],
   "source": [
    "# Check proportion of NaNs\n",
    "df.isnull().sum() / len(df) * 100"
   ]
  },
  {
   "cell_type": "code",
   "execution_count": 10,
   "metadata": {},
   "outputs": [
    {
     "data": {
      "image/png": "[encoded data removed]",
      "text/plain": [
       "<Figure size 432x288 with 1 Axes>"
      ]
     },
     "metadata": {
      "needs_background": "light"
     },
     "output_type": "display_data"
    },
    {
     "data": {
      "image/png": "[encoded data removed]",
      "text/plain": [
       "<Figure size 432x288 with 1 Axes>"
      ]
     },
     "metadata": {
      "needs_background": "light"
     },
     "output_type": "display_data"
    },
    {
     "data": {
      "image/png": "[encoded data removed]",
      "text/plain": [
       "<Figure size 432x288 with 1 Axes>"
      ]
     },
     "metadata": {
      "needs_background": "light"
     },
     "output_type": "display_data"
    },
    {
     "data": {
      "image/png": "[encoded data removed]",
      "text/plain": [
       "<Figure size 432x288 with 1 Axes>"
      ]
     },
     "metadata": {
      "needs_background": "light"
     },
     "output_type": "display_data"
    },
    {
     "data": {
      "image/png": "[encoded data removed]",
      "text/plain": [
       "<Figure size 432x288 with 1 Axes>"
      ]
     },
     "metadata": {
      "needs_background": "light"
     },
     "output_type": "display_data"
    },
    {
     "data": {
      "image/png": "[encoded data removed]",
      "text/plain": [
       "<Figure size 432x288 with 1 Axes>"
      ]
     },
     "metadata": {
      "needs_background": "light"
     },
     "output_type": "display_data"
    },
    {
     "data": {
      "image/png": "[encoded data removed]",
      "text/plain": [
       "<Figure size 432x288 with 1 Axes>"
      ]
     },
     "metadata": {
      "needs_background": "light"
     },
     "output_type": "display_data"
    },
    {
     "data": {
      "image/png": "[encoded data removed]",
      "text/plain": [
       "<Figure size 432x288 with 1 Axes>"
      ]
     },
     "metadata": {
      "needs_background": "light"
     },
     "output_type": "display_data"
    },
    {
     "data": {
      "image/png": "[encoded data removed]",
      "text/plain": [
       "<Figure size 432x288 with 1 Axes>"
      ]
     },
     "metadata": {
      "needs_background": "light"
     },
     "output_type": "display_data"
    },
    {
     "data": {
      "image/png": "[encoded data removed]",
      "text/plain": [
       "<Figure size 432x288 with 1 Axes>"
      ]
     },
     "metadata": {
      "needs_background": "light"
     },
     "output_type": "display_data"
    },
    {
     "data": {
      "image/png": "[encoded data removed]",
      "text/plain": [
       "<Figure size 432x288 with 1 Axes>"
      ]
     },
     "metadata": {
      "needs_background": "light"
     },
     "output_type": "display_data"
    }
   ],
   "source": [
    "# Print the distibutions\n",
    "import matplotlib.pyplot as plt\n",
    "for f in df.columns:\n",
    "    try:\n",
    "        fig = plt.figure()\n",
    "        num_bins = min((30, len(df[f].unique())))\n",
    "        df[f].hist(bins=num_bins)\n",
    "        plt.xlabel(f)\n",
    "    except TypeError:\n",
    "        print()\n",
    "        print(df[f].value_counts())\n",
    "        print('-'*30)\n",
    "        plt.close()"
   ]
  },
  {
   "cell_type": "code",
   "execution_count": 11,
   "metadata": {},
   "outputs": [],
   "source": [
    "# Drop the is_smoker column - we don't have enough data\n",
    "del df['is_smoker']"
   ]
  },
  {
   "cell_type": "code",
   "execution_count": 12,
   "metadata": {},
   "outputs": [],
   "source": [
    "# For the time_spend_company, we will fill the NaN value with the median\n",
    "# This is because it's an integer field so we should use a integer value\n",
    "fill_value = df.time_spend_company.median()\n",
    "df.time_spend_company = df.time_spend_company.fillna(fill_value)"
   ]
  },
  {
   "cell_type": "code",
   "execution_count": 13,
   "metadata": {},
   "outputs": [
    {
     "data": {
      "text/plain": [
       "<matplotlib.axes._subplots.AxesSubplot at 0x14ac5ca0f48>"
      ]
     },
     "execution_count": 13,
     "metadata": {},
     "output_type": "execute_result"
    },
    {
     "data": {
      "image/png": "[encoded data removed]",
      "text/plain": [
       "<Figure size 432x288 with 1 Axes>"
      ]
     },
     "metadata": {
      "needs_background": "light"
     },
     "output_type": "display_data"
    }
   ],
   "source": [
    "# Average Monthly Hours and Number Projects are related, so we can use the relationship to fill average_monthly_hours missing data\n",
    "\n",
    "# First, make a boxplot of average_monthly_hours segmented by number_project\n",
    "import seaborn as sns\n",
    "sns.boxplot(x='number_project', y='average_montly_hours', data=df)"
   ]
  },
  {
   "cell_type": "code",
   "execution_count": 14,
   "metadata": {},
   "outputs": [
    {
     "name": "stdout",
     "output_type": "stream",
     "text": [
      "{2: 160.16353543979506, 3: 197.47882323104236, 4: 205.07858315740089, 5: 211.99962839093274, 6: 238.73947368421054, 7: 276.015873015873}\n"
     ]
    }
   ],
   "source": [
    "# We will fill in the NaNs for average_monthly_hours with the mean for\n",
    "# each group, depending on the number of projects. There is an unsurprising\n",
    "# correlation between hours and projects.\n",
    "\n",
    "# Calculate fill values\n",
    "mean_per_project = df.groupby('number_project').average_montly_hours.mean()\n",
    "mean_per_project = dict(mean_per_project)\n",
    "print(mean_per_project)"
   ]
  },
  {
   "cell_type": "code",
   "execution_count": 15,
   "metadata": {},
   "outputs": [],
   "source": [
    "# Map these onto the NaNs\n",
    "fill_values = df.number_project.map(mean_per_project)\n",
    "df.average_montly_hours = df.average_montly_hours.fillna(fill_values)"
   ]
  },
  {
   "cell_type": "code",
   "execution_count": 16,
   "metadata": {},
   "outputs": [],
   "source": [
    "# Make sure we have no NaNs left\n",
    "assert df.isnull().sum().sum() == 0"
   ]
  },
  {
   "cell_type": "code",
   "execution_count": 17,
   "metadata": {},
   "outputs": [
    {
     "data": {
      "text/plain": [
       "Index(['satisfaction_level', 'last_evaluation', 'number_project',\n",
       "       'average_montly_hours', 'time_spend_company', 'work_accident', 'left',\n",
       "       'promotion_last_5years', 'department_IT', 'department_RandD',\n",
       "       'department_accounting', 'department_hr', 'department_management',\n",
       "       'department_marketing', 'department_product_mng', 'department_sales',\n",
       "       'department_support', 'department_technical', 'salary_high',\n",
       "       'salary_low', 'salary_medium'],\n",
       "      dtype='object')"
      ]
     },
     "execution_count": 17,
     "metadata": {},
     "output_type": "execute_result"
    }
   ],
   "source": [
    "# Last tidying step - transform string and boolean fields into integers\n",
    "# 1 for yes and 0 for no\n",
    "df.left = df.left.map({'no': 0, 'yes': 1})\n",
    "df = pd.get_dummies(df)\n",
    "df.columns"
   ]
  },
  {
   "cell_type": "code",
   "execution_count": 18,
   "metadata": {},
   "outputs": [
    {
     "data": {
      "text/html": [
       "<div>\n",
       "<style scoped>\n",
       "    .dataframe tbody tr th:only-of-type {\n",
       "        vertical-align: middle;\n",
       "    }\n",
       "\n",
       "    .dataframe tbody tr th {\n",
       "        vertical-align: top;\n",
       "    }\n",
       "\n",
       "    .dataframe thead th {\n",
       "        text-align: right;\n",
       "    }\n",
       "</style>\n",
       "<table border=\"1\" class=\"dataframe\">\n",
       "  <thead>\n",
       "    <tr style=\"text-align: right;\">\n",
       "      <th></th>\n",
       "      <th>satisfaction_level</th>\n",
       "      <th>last_evaluation</th>\n",
       "      <th>number_project</th>\n",
       "      <th>average_montly_hours</th>\n",
       "      <th>time_spend_company</th>\n",
       "      <th>work_accident</th>\n",
       "      <th>left</th>\n",
       "      <th>promotion_last_5years</th>\n",
       "      <th>department_IT</th>\n",
       "      <th>department_RandD</th>\n",
       "      <th>...</th>\n",
       "      <th>department_hr</th>\n",
       "      <th>department_management</th>\n",
       "      <th>department_marketing</th>\n",
       "      <th>department_product_mng</th>\n",
       "      <th>department_sales</th>\n",
       "      <th>department_support</th>\n",
       "      <th>department_technical</th>\n",
       "      <th>salary_high</th>\n",
       "      <th>salary_low</th>\n",
       "      <th>salary_medium</th>\n",
       "    </tr>\n",
       "  </thead>\n",
       "  <tbody>\n",
       "    <tr>\n",
       "      <th>0</th>\n",
       "      <td>0.38</td>\n",
       "      <td>0.53</td>\n",
       "      <td>2</td>\n",
       "      <td>157.000000</td>\n",
       "      <td>3.0</td>\n",
       "      <td>0</td>\n",
       "      <td>1</td>\n",
       "      <td>0</td>\n",
       "      <td>0</td>\n",
       "      <td>0</td>\n",
       "      <td>...</td>\n",
       "      <td>0</td>\n",
       "      <td>0</td>\n",
       "      <td>0</td>\n",
       "      <td>0</td>\n",
       "      <td>1</td>\n",
       "      <td>0</td>\n",
       "      <td>0</td>\n",
       "      <td>0</td>\n",
       "      <td>1</td>\n",
       "      <td>0</td>\n",
       "    </tr>\n",
       "    <tr>\n",
       "      <th>1</th>\n",
       "      <td>0.80</td>\n",
       "      <td>0.86</td>\n",
       "      <td>5</td>\n",
       "      <td>262.000000</td>\n",
       "      <td>6.0</td>\n",
       "      <td>0</td>\n",
       "      <td>1</td>\n",
       "      <td>0</td>\n",
       "      <td>0</td>\n",
       "      <td>0</td>\n",
       "      <td>...</td>\n",
       "      <td>0</td>\n",
       "      <td>0</td>\n",
       "      <td>0</td>\n",
       "      <td>0</td>\n",
       "      <td>1</td>\n",
       "      <td>0</td>\n",
       "      <td>0</td>\n",
       "      <td>0</td>\n",
       "      <td>0</td>\n",
       "      <td>1</td>\n",
       "    </tr>\n",
       "    <tr>\n",
       "      <th>2</th>\n",
       "      <td>0.11</td>\n",
       "      <td>0.88</td>\n",
       "      <td>7</td>\n",
       "      <td>272.000000</td>\n",
       "      <td>4.0</td>\n",
       "      <td>0</td>\n",
       "      <td>1</td>\n",
       "      <td>0</td>\n",
       "      <td>0</td>\n",
       "      <td>0</td>\n",
       "      <td>...</td>\n",
       "      <td>0</td>\n",
       "      <td>0</td>\n",
       "      <td>0</td>\n",
       "      <td>0</td>\n",
       "      <td>1</td>\n",
       "      <td>0</td>\n",
       "      <td>0</td>\n",
       "      <td>0</td>\n",
       "      <td>0</td>\n",
       "      <td>1</td>\n",
       "    </tr>\n",
       "    <tr>\n",
       "      <th>3</th>\n",
       "      <td>0.72</td>\n",
       "      <td>0.87</td>\n",
       "      <td>5</td>\n",
       "      <td>223.000000</td>\n",
       "      <td>5.0</td>\n",
       "      <td>0</td>\n",
       "      <td>1</td>\n",
       "      <td>0</td>\n",
       "      <td>0</td>\n",
       "      <td>0</td>\n",
       "      <td>...</td>\n",
       "      <td>0</td>\n",
       "      <td>0</td>\n",
       "      <td>0</td>\n",
       "      <td>0</td>\n",
       "      <td>1</td>\n",
       "      <td>0</td>\n",
       "      <td>0</td>\n",
       "      <td>0</td>\n",
       "      <td>1</td>\n",
       "      <td>0</td>\n",
       "    </tr>\n",
       "    <tr>\n",
       "      <th>4</th>\n",
       "      <td>0.37</td>\n",
       "      <td>0.52</td>\n",
       "      <td>2</td>\n",
       "      <td>160.163535</td>\n",
       "      <td>3.0</td>\n",
       "      <td>0</td>\n",
       "      <td>1</td>\n",
       "      <td>0</td>\n",
       "      <td>0</td>\n",
       "      <td>0</td>\n",
       "      <td>...</td>\n",
       "      <td>0</td>\n",
       "      <td>0</td>\n",
       "      <td>0</td>\n",
       "      <td>0</td>\n",
       "      <td>1</td>\n",
       "      <td>0</td>\n",
       "      <td>0</td>\n",
       "      <td>0</td>\n",
       "      <td>1</td>\n",
       "      <td>0</td>\n",
       "    </tr>\n",
       "  </tbody>\n",
       "</table>\n",
       "<p>5 rows × 21 columns</p>\n",
       "</div>"
      ],
      "text/plain": [
       "   satisfaction_level  last_evaluation  number_project  average_montly_hours  \\\n",
       "0                0.38             0.53               2            157.000000   \n",
       "1                0.80             0.86               5            262.000000   \n",
       "2                0.11             0.88               7            272.000000   \n",
       "3                0.72             0.87               5            223.000000   \n",
       "4                0.37             0.52               2            160.163535   \n",
       "\n",
       "   time_spend_company  work_accident  left  promotion_last_5years  \\\n",
       "0                 3.0              0     1                      0   \n",
       "1                 6.0              0     1                      0   \n",
       "2                 4.0              0     1                      0   \n",
       "3                 5.0              0     1                      0   \n",
       "4                 3.0              0     1                      0   \n",
       "\n",
       "   department_IT  department_RandD  ...  department_hr  department_management  \\\n",
       "0              0                 0  ...              0                      0   \n",
       "1              0                 0  ...              0                      0   \n",
       "2              0                 0  ...              0                      0   \n",
       "3              0                 0  ...              0                      0   \n",
       "4              0                 0  ...              0                      0   \n",
       "\n",
       "   department_marketing  department_product_mng  department_sales  \\\n",
       "0                     0                       0                 1   \n",
       "1                     0                       0                 1   \n",
       "2                     0                       0                 1   \n",
       "3                     0                       0                 1   \n",
       "4                     0                       0                 1   \n",
       "\n",
       "   department_support  department_technical  salary_high  salary_low  \\\n",
       "0                   0                     0            0           1   \n",
       "1                   0                     0            0           0   \n",
       "2                   0                     0            0           0   \n",
       "3                   0                     0            0           1   \n",
       "4                   0                     0            0           1   \n",
       "\n",
       "   salary_medium  \n",
       "0              0  \n",
       "1              1  \n",
       "2              1  \n",
       "3              0  \n",
       "4              0  \n",
       "\n",
       "[5 rows x 21 columns]"
      ]
     },
     "execution_count": 18,
     "metadata": {},
     "output_type": "execute_result"
    }
   ],
   "source": [
    "# Save the data to preprocessed CSV after checking it again\n",
    "df.head()"
   ]
  },
  {
   "cell_type": "code",
   "execution_count": 19,
   "metadata": {},
   "outputs": [
    {
     "data": {
      "text/html": [
       "<div>\n",
       "<style scoped>\n",
       "    .dataframe tbody tr th:only-of-type {\n",
       "        vertical-align: middle;\n",
       "    }\n",
       "\n",
       "    .dataframe tbody tr th {\n",
       "        vertical-align: top;\n",
       "    }\n",
       "\n",
       "    .dataframe thead th {\n",
       "        text-align: right;\n",
       "    }\n",
       "</style>\n",
       "<table border=\"1\" class=\"dataframe\">\n",
       "  <thead>\n",
       "    <tr style=\"text-align: right;\">\n",
       "      <th></th>\n",
       "      <th>satisfaction_level</th>\n",
       "      <th>last_evaluation</th>\n",
       "      <th>number_project</th>\n",
       "      <th>average_montly_hours</th>\n",
       "      <th>time_spend_company</th>\n",
       "      <th>work_accident</th>\n",
       "      <th>left</th>\n",
       "      <th>promotion_last_5years</th>\n",
       "      <th>department_IT</th>\n",
       "      <th>department_RandD</th>\n",
       "      <th>...</th>\n",
       "      <th>department_hr</th>\n",
       "      <th>department_management</th>\n",
       "      <th>department_marketing</th>\n",
       "      <th>department_product_mng</th>\n",
       "      <th>department_sales</th>\n",
       "      <th>department_support</th>\n",
       "      <th>department_technical</th>\n",
       "      <th>salary_high</th>\n",
       "      <th>salary_low</th>\n",
       "      <th>salary_medium</th>\n",
       "    </tr>\n",
       "  </thead>\n",
       "  <tbody>\n",
       "    <tr>\n",
       "      <th>14994</th>\n",
       "      <td>0.40</td>\n",
       "      <td>0.57</td>\n",
       "      <td>2</td>\n",
       "      <td>151.0</td>\n",
       "      <td>3.0</td>\n",
       "      <td>0</td>\n",
       "      <td>1</td>\n",
       "      <td>0</td>\n",
       "      <td>0</td>\n",
       "      <td>0</td>\n",
       "      <td>...</td>\n",
       "      <td>0</td>\n",
       "      <td>0</td>\n",
       "      <td>0</td>\n",
       "      <td>0</td>\n",
       "      <td>0</td>\n",
       "      <td>1</td>\n",
       "      <td>0</td>\n",
       "      <td>0</td>\n",
       "      <td>1</td>\n",
       "      <td>0</td>\n",
       "    </tr>\n",
       "    <tr>\n",
       "      <th>14995</th>\n",
       "      <td>0.37</td>\n",
       "      <td>0.48</td>\n",
       "      <td>2</td>\n",
       "      <td>160.0</td>\n",
       "      <td>3.0</td>\n",
       "      <td>0</td>\n",
       "      <td>1</td>\n",
       "      <td>0</td>\n",
       "      <td>0</td>\n",
       "      <td>0</td>\n",
       "      <td>...</td>\n",
       "      <td>0</td>\n",
       "      <td>0</td>\n",
       "      <td>0</td>\n",
       "      <td>0</td>\n",
       "      <td>0</td>\n",
       "      <td>1</td>\n",
       "      <td>0</td>\n",
       "      <td>0</td>\n",
       "      <td>1</td>\n",
       "      <td>0</td>\n",
       "    </tr>\n",
       "    <tr>\n",
       "      <th>14996</th>\n",
       "      <td>0.37</td>\n",
       "      <td>0.53</td>\n",
       "      <td>2</td>\n",
       "      <td>143.0</td>\n",
       "      <td>3.0</td>\n",
       "      <td>0</td>\n",
       "      <td>1</td>\n",
       "      <td>0</td>\n",
       "      <td>0</td>\n",
       "      <td>0</td>\n",
       "      <td>...</td>\n",
       "      <td>0</td>\n",
       "      <td>0</td>\n",
       "      <td>0</td>\n",
       "      <td>0</td>\n",
       "      <td>0</td>\n",
       "      <td>1</td>\n",
       "      <td>0</td>\n",
       "      <td>0</td>\n",
       "      <td>1</td>\n",
       "      <td>0</td>\n",
       "    </tr>\n",
       "    <tr>\n",
       "      <th>14997</th>\n",
       "      <td>0.11</td>\n",
       "      <td>0.96</td>\n",
       "      <td>6</td>\n",
       "      <td>280.0</td>\n",
       "      <td>4.0</td>\n",
       "      <td>0</td>\n",
       "      <td>1</td>\n",
       "      <td>0</td>\n",
       "      <td>0</td>\n",
       "      <td>0</td>\n",
       "      <td>...</td>\n",
       "      <td>0</td>\n",
       "      <td>0</td>\n",
       "      <td>0</td>\n",
       "      <td>0</td>\n",
       "      <td>0</td>\n",
       "      <td>1</td>\n",
       "      <td>0</td>\n",
       "      <td>0</td>\n",
       "      <td>1</td>\n",
       "      <td>0</td>\n",
       "    </tr>\n",
       "    <tr>\n",
       "      <th>14998</th>\n",
       "      <td>0.37</td>\n",
       "      <td>0.52</td>\n",
       "      <td>2</td>\n",
       "      <td>158.0</td>\n",
       "      <td>3.0</td>\n",
       "      <td>0</td>\n",
       "      <td>1</td>\n",
       "      <td>0</td>\n",
       "      <td>0</td>\n",
       "      <td>0</td>\n",
       "      <td>...</td>\n",
       "      <td>0</td>\n",
       "      <td>0</td>\n",
       "      <td>0</td>\n",
       "      <td>0</td>\n",
       "      <td>0</td>\n",
       "      <td>1</td>\n",
       "      <td>0</td>\n",
       "      <td>0</td>\n",
       "      <td>1</td>\n",
       "      <td>0</td>\n",
       "    </tr>\n",
       "  </tbody>\n",
       "</table>\n",
       "<p>5 rows × 21 columns</p>\n",
       "</div>"
      ],
      "text/plain": [
       "       satisfaction_level  last_evaluation  number_project  \\\n",
       "14994                0.40             0.57               2   \n",
       "14995                0.37             0.48               2   \n",
       "14996                0.37             0.53               2   \n",
       "14997                0.11             0.96               6   \n",
       "14998                0.37             0.52               2   \n",
       "\n",
       "       average_montly_hours  time_spend_company  work_accident  left  \\\n",
       "14994                 151.0                 3.0              0     1   \n",
       "14995                 160.0                 3.0              0     1   \n",
       "14996                 143.0                 3.0              0     1   \n",
       "14997                 280.0                 4.0              0     1   \n",
       "14998                 158.0                 3.0              0     1   \n",
       "\n",
       "       promotion_last_5years  department_IT  department_RandD  ...  \\\n",
       "14994                      0              0                 0  ...   \n",
       "14995                      0              0                 0  ...   \n",
       "14996                      0              0                 0  ...   \n",
       "14997                      0              0                 0  ...   \n",
       "14998                      0              0                 0  ...   \n",
       "\n",
       "       department_hr  department_management  department_marketing  \\\n",
       "14994              0                      0                     0   \n",
       "14995              0                      0                     0   \n",
       "14996              0                      0                     0   \n",
       "14997              0                      0                     0   \n",
       "14998              0                      0                     0   \n",
       "\n",
       "       department_product_mng  department_sales  department_support  \\\n",
       "14994                       0                 0                   1   \n",
       "14995                       0                 0                   1   \n",
       "14996                       0                 0                   1   \n",
       "14997                       0                 0                   1   \n",
       "14998                       0                 0                   1   \n",
       "\n",
       "       department_technical  salary_high  salary_low  salary_medium  \n",
       "14994                     0            0           1              0  \n",
       "14995                     0            0           1              0  \n",
       "14996                     0            0           1              0  \n",
       "14997                     0            0           1              0  \n",
       "14998                     0            0           1              0  \n",
       "\n",
       "[5 rows x 21 columns]"
      ]
     },
     "execution_count": 19,
     "metadata": {},
     "output_type": "execute_result"
    }
   ],
   "source": [
    "df.tail()"
   ]
  },
  {
   "cell_type": "code",
   "execution_count": 20,
   "metadata": {},
   "outputs": [],
   "source": [
    "df.to_csv('./data_hr_analytics_preprocessed.csv', index=False)"
   ]
  },
  {
   "cell_type": "markdown",
   "metadata": {},
   "source": [
    "### Comments on the problem\n",
    "This is a binary classification problem - we're trying to find a model to predict whether an employee will fit into the \"left\" or not category based on other data. \n",
    "\n",
    "**We will use three different models here: Support Vector Machines, Random Forests and K-Nearest Neighbours**\n",
    "\n",
    "#### Support Vector Machines\n",
    "SVMs try and find the best hyperplane to divide different the two classes by - they maximise the distance between the hyperplane and the closest samples of each class, the support vectors. \n",
    "\n",
    "This can be used to model non-linear classes using the kernel trick (mapping the features into a higher dimensional space in which the hyperplane is determined - this is also referred to as the decision surface and we will see it when training our models).\n",
    "\n",
    "#### k-Nearest Neighbours\n",
    "Classification algorithm memorises the training data and make predictions depending on the K nearest samples in the feature space. With 3 features, this can be shown as a sphere around the prediction sample. However, if we have more than 3 features, we need a hypersphere to find the closest K samples.\n",
    "\n",
    "#### Random Forests\n",
    "These are an ensemble of decision trees, where each decision tree was trained on a different subset of the training data. A decision tree algorithm classifies a sample using a series of decisions - e.g. feature X is less than or greater than 1. Each decision tree step should be determined based on the feature split that maximises information gain.\n",
    "\n",
    "Training a random forest involves creating bootstrapped datasets for several decision trees. Predictions are then made by majority vote. The benefit is less overfitting and more generalisability.\n",
    "\n",
    "**Other benefits of decision trees include that you can model a mix of continuous and categorical data, plus tree depth can be limited to reduce overfitting.** See [this StackOverflow thread](https://stackoverflow.com/a/1859910/3511819), which also describes concepts like node purity, information gain and entropy.\n"
   ]
  },
  {
   "cell_type": "markdown",
   "metadata": {},
   "source": [
    "## Continuing on 9 July 2020\n",
    "\n",
    "First, draw some more distribution graphs and then use the above algorithms to try find a solution to the problem. We will be training classification models using two continuous features - satisfaction_level and last_evaluation."
   ]
  },
  {
   "cell_type": "code",
   "execution_count": 21,
   "metadata": {},
   "outputs": [
    {
     "data": {
      "text/plain": [
       "<seaborn.axisgrid.JointGrid at 0x14ac49da688>"
      ]
     },
     "execution_count": 21,
     "metadata": {},
     "output_type": "execute_result"
    },
    {
     "data": {
      "image/png": "[encoded data removed]",
      "text/plain": [
       "<Figure size 432x432 with 3 Axes>"
      ]
     },
     "metadata": {
      "needs_background": "light"
     },
     "output_type": "display_data"
    }
   ],
   "source": [
    "# Bivariate and univariate distributon graphs of satisfaction_level and last_evaluation\n",
    "sns.jointplot('satisfaction_level', 'last_evaluation', data=df, kind='hex')"
   ]
  },
  {
   "cell_type": "code",
   "execution_count": 22,
   "metadata": {},
   "outputs": [
    {
     "data": {
      "image/png": "[encoded data removed]",
      "text/plain": [
       "<Figure size 432x288 with 1 Axes>"
      ]
     },
     "metadata": {
      "needs_background": "light"
     },
     "output_type": "display_data"
    }
   ],
   "source": [
    "# Re-plot the bivariate distribution, segmenting on the target variable\n",
    "plot_args = dict(shade=True, shade_lowest=False)\n",
    "for i, c in zip((0, 1), ('Reds', 'Blues')):\n",
    "    sns.kdeplot(df.loc[df.left==i, 'satisfaction_level'],\n",
    "                df.loc[df.left==i, 'last_evaluation'],\n",
    "                cmap=c, **plot_args)"
   ]
  },
  {
   "cell_type": "markdown",
   "metadata": {},
   "source": [
    "#### Discussion\n",
    "These graphs show some clear patterns, which can be used to train classification models. People with higher satisfaction levels tend to be less likely to leave, though there are some points in the data where the intersection of satisfaction_level and last_evaluation make leaving more likely (see blue circles).\n",
    "\n",
    "We now need to split the data into training and test sets. We can then train models, starting with **support vector machines**."
   ]
  },
  {
   "cell_type": "code",
   "execution_count": 23,
   "metadata": {},
   "outputs": [],
   "source": [
    "# Split the data into training and testing sets\n",
    "from sklearn.model_selection import train_test_split\n",
    "features = ['satisfaction_level', 'last_evaluation']\n",
    "X_train, X_test, y_train, y_test = train_test_split(df[features].values, df['left'].values,\n",
    "    test_size=0.3, random_state=1)"
   ]
  },
  {
   "cell_type": "code",
   "execution_count": 24,
   "metadata": {},
   "outputs": [],
   "source": [
    "# SVMs and k-Nearest Neighbours are most efficient when input data is scaled so that all the features are on the same order.\n",
    "# sklearn has a StandardScaler that allows this.\n",
    "from sklearn.preprocessing import StandardScaler\n",
    "scaler = StandardScaler()\n",
    "X_train_std = scaler.fit_transform(X_train)\n",
    "X_test_std = scaler.transform(X_test)\n",
    "# Note that we aren't fitting the scaler on the test data - only the training data. We don't want our model training to be influeced by the test data."
   ]
  },
  {
   "cell_type": "code",
   "execution_count": 25,
   "metadata": {},
   "outputs": [
    {
     "data": {
      "text/plain": [
       "SVC(C=1, kernel='linear', random_state=1)"
      ]
     },
     "execution_count": 25,
     "metadata": {},
     "output_type": "execute_result"
    }
   ],
   "source": [
    "# Import scikit-learn's SVM class and fit the model\n",
    "from sklearn.svm import SVC\n",
    "svm = SVC(kernel='linear', C=1, random_state=1)\n",
    "svm.fit(X_train_std, y_train)\n",
    "# The C parameter controls the penalty for misclassification so that variance and bias can be controlled"
   ]
  },
  {
   "cell_type": "code",
   "execution_count": 26,
   "metadata": {},
   "outputs": [
    {
     "name": "stdout",
     "output_type": "stream",
     "text": [
      "accuracy = 75.9%\n"
     ]
    }
   ],
   "source": [
    "# Compute the accuracy of the model on unseen data\n",
    "from sklearn.metrics import accuracy_score\n",
    "y_pred = svm.predict(X_test_std)\n",
    "acc = accuracy_score(y_test, y_pred)\n",
    "print('accuracy = {:.1f}%'.format(acc*100))"
   ]
  },
  {
   "cell_type": "code",
   "execution_count": 27,
   "metadata": {},
   "outputs": [
    {
     "name": "stdout",
     "output_type": "stream",
     "text": [
      "left = 0 : 100.00%\n",
      "left = 1 : 0.00%\n"
     ]
    }
   ],
   "source": [
    "# Calculate the confusion matrix and then determine the accuracy within each class\n",
    "from sklearn.metrics import confusion_matrix\n",
    "cmatrix = confusion_matrix(y_test, y_pred)\n",
    "scores = cmatrix.diagonal() / cmatrix.sum(axis=1) * 100\n",
    "print('left = 0 : {:.2f}%'.format(scores[0]))\n",
    "print('left = 1 : {:.2f}%'.format(scores[1]))"
   ]
  },
  {
   "cell_type": "code",
   "execution_count": 28,
   "metadata": {},
   "outputs": [
    {
     "name": "stderr",
     "output_type": "stream",
     "text": [
      "C:\\Users\\MateMalice\\.conda\\envs\\machine-learning\\lib\\site-packages\\mlxtend\\plotting\\decision_regions.py:247: UserWarning: No contour levels were found within the data range.\n",
      "  antialiased=True)\n",
      "C:\\Users\\MateMalice\\.conda\\envs\\machine-learning\\lib\\site-packages\\mlxtend\\plotting\\decision_regions.py:249: MatplotlibDeprecationWarning: Passing unsupported keyword arguments to axis() will raise a TypeError in 3.3.\n",
      "  ax.axis(xmin=xx.min(), xmax=xx.max(), y_min=yy.min(), y_max=yy.max())\n"
     ]
    },
    {
     "data": {
      "text/plain": [
       "<matplotlib.axes._subplots.AxesSubplot at 0x14ad3e7a208>"
      ]
     },
     "execution_count": 28,
     "metadata": {},
     "output_type": "execute_result"
    },
    {
     "data": {
      "image/png": "[encoded data removed]",
      "text/plain": [
       "<Figure size 432x288 with 1 Axes>"
      ]
     },
     "metadata": {
      "needs_background": "light"
     },
     "output_type": "display_data"
    }
   ],
   "source": [
    "# The model is clearly classifying every sample as a zero, which is not helpful.\n",
    "# We can use a contour plot to show the predicted calss at each feature space point\n",
    "# Known as the decision-regions plot.\n",
    "from mlxtend.plotting import plot_decision_regions\n",
    "N_samples = 200\n",
    "X, y = X_train_std[:N_samples], y_train[:N_samples]\n",
    "plot_decision_regions(X, y, clf=svm)"
   ]
  },
  {
   "cell_type": "code",
   "execution_count": 29,
   "metadata": {},
   "outputs": [
    {
     "data": {
      "text/plain": [
       "SVC(C=1, random_state=1)"
      ]
     },
     "execution_count": 29,
     "metadata": {},
     "output_type": "execute_result"
    }
   ],
   "source": [
    "# It's obvious why everything was being classified as zero given the above distribution.\n",
    "# We can use a kernel trick to classify non-linear problems. Instead of using the linear kernel (above), use rbf\n",
    "svm = SVC(kernel='rbf', C=1, random_state=1)\n",
    "svm.fit(X_train_std, y_train)"
   ]
  },
  {
   "cell_type": "code",
   "execution_count": 30,
   "metadata": {},
   "outputs": [
    {
     "name": "stdout",
     "output_type": "stream",
     "text": [
      "total accuracy = 89.7%\n"
     ]
    },
    {
     "data": {
      "text/html": [
       "<div>\n",
       "<style scoped>\n",
       "    .dataframe tbody tr th:only-of-type {\n",
       "        vertical-align: middle;\n",
       "    }\n",
       "\n",
       "    .dataframe tbody tr th {\n",
       "        vertical-align: top;\n",
       "    }\n",
       "\n",
       "    .dataframe thead tr th {\n",
       "        text-align: left;\n",
       "    }\n",
       "</style>\n",
       "<table border=\"1\" class=\"dataframe\">\n",
       "  <thead>\n",
       "    <tr>\n",
       "      <th></th>\n",
       "      <th></th>\n",
       "      <th colspan=\"2\" halign=\"left\">predictions</th>\n",
       "    </tr>\n",
       "    <tr>\n",
       "      <th></th>\n",
       "      <th></th>\n",
       "      <th>0</th>\n",
       "      <th>1</th>\n",
       "    </tr>\n",
       "  </thead>\n",
       "  <tbody>\n",
       "    <tr>\n",
       "      <th rowspan=\"2\" valign=\"top\">actual</th>\n",
       "      <th>0</th>\n",
       "      <td>3308</td>\n",
       "      <td>108</td>\n",
       "    </tr>\n",
       "    <tr>\n",
       "      <th>1</th>\n",
       "      <td>354</td>\n",
       "      <td>730</td>\n",
       "    </tr>\n",
       "  </tbody>\n",
       "</table>\n",
       "</div>"
      ],
      "text/plain": [
       "         predictions     \n",
       "                   0    1\n",
       "actual 0        3308  108\n",
       "       1         354  730"
      ]
     },
     "metadata": {},
     "output_type": "display_data"
    },
    {
     "name": "stdout",
     "output_type": "stream",
     "text": [
      "\n",
      "percent accuracy score per class:\n",
      "left = 0 : 96.84%\n",
      "left = 1 : 67.34%\n",
      "\n"
     ]
    },
    {
     "name": "stderr",
     "output_type": "stream",
     "text": [
      "C:\\Users\\MateMalice\\.conda\\envs\\machine-learning\\lib\\site-packages\\mlxtend\\plotting\\decision_regions.py:249: MatplotlibDeprecationWarning: Passing unsupported keyword arguments to axis() will raise a TypeError in 3.3.\n",
      "  ax.axis(xmin=xx.min(), xmax=xx.max(), y_min=yy.min(), y_max=yy.max())\n"
     ]
    },
    {
     "data": {
      "image/png": "[encoded data removed]",
      "text/plain": [
       "<Figure size 576x576 with 1 Axes>"
      ]
     },
     "metadata": {
      "needs_background": "light"
     },
     "output_type": "display_data"
    }
   ],
   "source": [
    "# Declare a function for checking model fit\n",
    "from sklearn.metrics import accuracy_score\n",
    "from sklearn.metrics import confusion_matrix\n",
    "from IPython.display import display\n",
    "from mlxtend.plotting import plot_decision_regions\n",
    "\n",
    "def check_model_fit(clf, X_test, y_test):\n",
    "    # Print overall test-set accuracy\n",
    "    y_pred = clf.predict(X_test)\n",
    "    acc = accuracy_score(y_test, y_pred, normalize=True) * 100\n",
    "    print('total accuracy = {:.1f}%'.format(acc))\n",
    "    \n",
    "    # Print confusion matrix\n",
    "    cmat = confusion_matrix(y_test, y_pred)\n",
    "    cols = pd.MultiIndex.from_tuples([('predictions', 0), ('predictions', 1)])\n",
    "    indx = pd.MultiIndex.from_tuples([('actual', 0), ('actual', 1)])\n",
    "    display(pd.DataFrame(cmat, columns=cols, index=indx))\n",
    "    print()\n",
    "    \n",
    "    # Print test-set accuracy grouped by the target variable \n",
    "    print('percent accuracy score per class:')\n",
    "    cmat = confusion_matrix(y_test, y_pred)\n",
    "    scores = cmat.diagonal() / cmat.sum(axis=1) * 100\n",
    "    print('left = 0 : {:.2f}%'.format(scores[0]))\n",
    "    print('left = 1 : {:.2f}%'.format(scores[1]))\n",
    "    print()\n",
    "    \n",
    "    # Plot decision regions\n",
    "    fig = plt.figure(figsize=(8, 8))\n",
    "    N_samples = 200\n",
    "    X, y = X_test[:N_samples], y_test[:N_samples]\n",
    "    plot_decision_regions(X, y, clf=clf)\n",
    "    \n",
    "    plt.xlabel('satisfaction_level')\n",
    "    plt.ylabel('last_evaluation')\n",
    "    plt.legend(loc='upper left')\n",
    "    \n",
    "# Run it\n",
    "check_model_fit(svm, X_test_std, y_test)"
   ]
  },
  {
   "cell_type": "markdown",
   "metadata": {},
   "source": [
    "### Discussion\n",
    "This is more accurate than the model that didn't use the rbf kernel trick - it did classify some of the employees in the Left category. However, accuracy is still much lower for the left category. From looking at the data distribution, we have much less data for employees in the \"left\" category, so the lower accuracy is not surprising.\n",
    "\n",
    "The next step will be training k-Nearest Neighbours, which I'll do tomorrow."
   ]
  },
  {
   "cell_type": "markdown",
   "metadata": {},
   "source": [
    "## 10 July 2020 - k-Nearest Neighbours and Random Forests\n",
    "Today I'm going to continue analysing the employee retention dataset using the k-Nearest Neighbours and Random Forest algorithms.\n",
    "\n",
    "We will start with sklearn's KNeighborsClassifier."
   ]
  },
  {
   "cell_type": "code",
   "execution_count": 31,
   "metadata": {},
   "outputs": [],
   "source": [
    "# Print function info\n",
    "from sklearn.neighbors import KNeighborsClassifier\n",
    "KNeighborsClassifier?"
   ]
  },
  {
   "cell_type": "code",
   "execution_count": 32,
   "metadata": {},
   "outputs": [
    {
     "name": "stdout",
     "output_type": "stream",
     "text": [
      "total accuracy = 90.9%\n"
     ]
    },
    {
     "data": {
      "text/html": [
       "<div>\n",
       "<style scoped>\n",
       "    .dataframe tbody tr th:only-of-type {\n",
       "        vertical-align: middle;\n",
       "    }\n",
       "\n",
       "    .dataframe tbody tr th {\n",
       "        vertical-align: top;\n",
       "    }\n",
       "\n",
       "    .dataframe thead tr th {\n",
       "        text-align: left;\n",
       "    }\n",
       "</style>\n",
       "<table border=\"1\" class=\"dataframe\">\n",
       "  <thead>\n",
       "    <tr>\n",
       "      <th></th>\n",
       "      <th></th>\n",
       "      <th colspan=\"2\" halign=\"left\">predictions</th>\n",
       "    </tr>\n",
       "    <tr>\n",
       "      <th></th>\n",
       "      <th></th>\n",
       "      <th>0</th>\n",
       "      <th>1</th>\n",
       "    </tr>\n",
       "  </thead>\n",
       "  <tbody>\n",
       "    <tr>\n",
       "      <th rowspan=\"2\" valign=\"top\">actual</th>\n",
       "      <th>0</th>\n",
       "      <td>3203</td>\n",
       "      <td>213</td>\n",
       "    </tr>\n",
       "    <tr>\n",
       "      <th>1</th>\n",
       "      <td>198</td>\n",
       "      <td>886</td>\n",
       "    </tr>\n",
       "  </tbody>\n",
       "</table>\n",
       "</div>"
      ],
      "text/plain": [
       "         predictions     \n",
       "                   0    1\n",
       "actual 0        3203  213\n",
       "       1         198  886"
      ]
     },
     "metadata": {},
     "output_type": "display_data"
    },
    {
     "name": "stdout",
     "output_type": "stream",
     "text": [
      "\n",
      "percent accuracy score per class:\n",
      "left = 0 : 93.76%\n",
      "left = 1 : 81.73%\n",
      "\n"
     ]
    },
    {
     "name": "stderr",
     "output_type": "stream",
     "text": [
      "C:\\Users\\MateMalice\\.conda\\envs\\machine-learning\\lib\\site-packages\\mlxtend\\plotting\\decision_regions.py:249: MatplotlibDeprecationWarning: Passing unsupported keyword arguments to axis() will raise a TypeError in 3.3.\n",
      "  ax.axis(xmin=xx.min(), xmax=xx.max(), y_min=yy.min(), y_max=yy.max())\n"
     ]
    },
    {
     "data": {
      "image/png": "[encoded data removed]",
      "text/plain": [
       "<Figure size 576x576 with 1 Axes>"
      ]
     },
     "metadata": {
      "needs_background": "light"
     },
     "output_type": "display_data"
    }
   ],
   "source": [
    "# Train the KNN classifier with n_neighbours = 3 and compute the accuracy and decision regions\n",
    "knn = KNeighborsClassifier(n_neighbors=3)\n",
    "knn.fit(X_train_std, y_train)\n",
    "check_model_fit(knn, X_test_std, y_test)"
   ]
  },
  {
   "cell_type": "markdown",
   "metadata": {},
   "source": [
    "### Discussion\n",
    "There is an increase in accuracy with this model compared to the SVM model, but the decision region plot suggests overfitting.\n",
    "\n",
    "**Indicators of overfitting apparent from the graph:**\n",
    "- Hard, choppy decision boundaries.\n",
    "- Small pockets yellow around the place.\n",
    "\n",
    "**How to reduce overfitting**\n",
    "We need to soften the decision boundary - we do this by increasing the number of nearest neighbours.\n",
    "\n",
    "Let's try a KNN model with n_neighbors = 25."
   ]
  },
  {
   "cell_type": "code",
   "execution_count": 33,
   "metadata": {},
   "outputs": [
    {
     "name": "stdout",
     "output_type": "stream",
     "text": [
      "total accuracy = 91.6%\n"
     ]
    },
    {
     "data": {
      "text/html": [
       "<div>\n",
       "<style scoped>\n",
       "    .dataframe tbody tr th:only-of-type {\n",
       "        vertical-align: middle;\n",
       "    }\n",
       "\n",
       "    .dataframe tbody tr th {\n",
       "        vertical-align: top;\n",
       "    }\n",
       "\n",
       "    .dataframe thead tr th {\n",
       "        text-align: left;\n",
       "    }\n",
       "</style>\n",
       "<table border=\"1\" class=\"dataframe\">\n",
       "  <thead>\n",
       "    <tr>\n",
       "      <th></th>\n",
       "      <th></th>\n",
       "      <th colspan=\"2\" halign=\"left\">predictions</th>\n",
       "    </tr>\n",
       "    <tr>\n",
       "      <th></th>\n",
       "      <th></th>\n",
       "      <th>0</th>\n",
       "      <th>1</th>\n",
       "    </tr>\n",
       "  </thead>\n",
       "  <tbody>\n",
       "    <tr>\n",
       "      <th rowspan=\"2\" valign=\"top\">actual</th>\n",
       "      <th>0</th>\n",
       "      <td>3290</td>\n",
       "      <td>126</td>\n",
       "    </tr>\n",
       "    <tr>\n",
       "      <th>1</th>\n",
       "      <td>254</td>\n",
       "      <td>830</td>\n",
       "    </tr>\n",
       "  </tbody>\n",
       "</table>\n",
       "</div>"
      ],
      "text/plain": [
       "         predictions     \n",
       "                   0    1\n",
       "actual 0        3290  126\n",
       "       1         254  830"
      ]
     },
     "metadata": {},
     "output_type": "display_data"
    },
    {
     "name": "stdout",
     "output_type": "stream",
     "text": [
      "\n",
      "percent accuracy score per class:\n",
      "left = 0 : 96.31%\n",
      "left = 1 : 76.57%\n",
      "\n"
     ]
    },
    {
     "name": "stderr",
     "output_type": "stream",
     "text": [
      "C:\\Users\\MateMalice\\.conda\\envs\\machine-learning\\lib\\site-packages\\mlxtend\\plotting\\decision_regions.py:249: MatplotlibDeprecationWarning: Passing unsupported keyword arguments to axis() will raise a TypeError in 3.3.\n",
      "  ax.axis(xmin=xx.min(), xmax=xx.max(), y_min=yy.min(), y_max=yy.max())\n"
     ]
    },
    {
     "data": {
      "image/png": "[encoded data removed]",
      "text/plain": [
       "<Figure size 576x576 with 1 Axes>"
      ]
     },
     "metadata": {
      "needs_background": "light"
     },
     "output_type": "display_data"
    }
   ],
   "source": [
    "knn = KNeighborsClassifier(n_neighbors=25)\n",
    "knn.fit(X_train_std, y_train)\n",
    "check_model_fit(knn, X_test_std, y_test)"
   ]
  },
  {
   "cell_type": "markdown",
   "metadata": {},
   "source": [
    "### Discussion\n",
    "The decision boundaries are less choppy and there are fewer random pockets of yellow. The accuracy for the left class is less than the previous model's, but we would need to use a method like k-fold cross validation to decide if there's a significant difference between the models.\n",
    "\n",
    "**Note**: Increasing n_neighbours does not affect training time (training just involves the model memorising the data), but does significantly increase prediction time. \n",
    "\n",
    "\n",
    "## Random Forest Training\n",
    "We will try an ensemble model - random forest - with 50 decision trees and a max depth of five."
   ]
  },
  {
   "cell_type": "code",
   "execution_count": 34,
   "metadata": {},
   "outputs": [
    {
     "name": "stdout",
     "output_type": "stream",
     "text": [
      "total accuracy = 92.4%\n"
     ]
    },
    {
     "data": {
      "text/html": [
       "<div>\n",
       "<style scoped>\n",
       "    .dataframe tbody tr th:only-of-type {\n",
       "        vertical-align: middle;\n",
       "    }\n",
       "\n",
       "    .dataframe tbody tr th {\n",
       "        vertical-align: top;\n",
       "    }\n",
       "\n",
       "    .dataframe thead tr th {\n",
       "        text-align: left;\n",
       "    }\n",
       "</style>\n",
       "<table border=\"1\" class=\"dataframe\">\n",
       "  <thead>\n",
       "    <tr>\n",
       "      <th></th>\n",
       "      <th></th>\n",
       "      <th colspan=\"2\" halign=\"left\">predictions</th>\n",
       "    </tr>\n",
       "    <tr>\n",
       "      <th></th>\n",
       "      <th></th>\n",
       "      <th>0</th>\n",
       "      <th>1</th>\n",
       "    </tr>\n",
       "  </thead>\n",
       "  <tbody>\n",
       "    <tr>\n",
       "      <th rowspan=\"2\" valign=\"top\">actual</th>\n",
       "      <th>0</th>\n",
       "      <td>7911</td>\n",
       "      <td>101</td>\n",
       "    </tr>\n",
       "    <tr>\n",
       "      <th>1</th>\n",
       "      <td>693</td>\n",
       "      <td>1794</td>\n",
       "    </tr>\n",
       "  </tbody>\n",
       "</table>\n",
       "</div>"
      ],
      "text/plain": [
       "         predictions      \n",
       "                   0     1\n",
       "actual 0        7911   101\n",
       "       1         693  1794"
      ]
     },
     "metadata": {},
     "output_type": "display_data"
    },
    {
     "name": "stdout",
     "output_type": "stream",
     "text": [
      "\n",
      "percent accuracy score per class:\n",
      "left = 0 : 98.74%\n",
      "left = 1 : 72.14%\n",
      "\n"
     ]
    },
    {
     "name": "stderr",
     "output_type": "stream",
     "text": [
      "C:\\Users\\MateMalice\\.conda\\envs\\machine-learning\\lib\\site-packages\\mlxtend\\plotting\\decision_regions.py:249: MatplotlibDeprecationWarning: Passing unsupported keyword arguments to axis() will raise a TypeError in 3.3.\n",
      "  ax.axis(xmin=xx.min(), xmax=xx.max(), y_min=yy.min(), y_max=yy.max())\n"
     ]
    },
    {
     "data": {
      "image/png": "[encoded data removed]",
      "text/plain": [
       "<Figure size 576x576 with 1 Axes>"
      ]
     },
     "metadata": {
      "needs_background": "light"
     },
     "output_type": "display_data"
    }
   ],
   "source": [
    "# Import and train the model - check the fit\n",
    "from sklearn.ensemble import RandomForestClassifier\n",
    "forest = RandomForestClassifier(n_estimators=50, max_depth=5, random_state=1)\n",
    "forest.fit(X_train, y_train)\n",
    "check_model_fit(forest, X_train, y_train)"
   ]
  },
  {
   "cell_type": "markdown",
   "metadata": {},
   "source": [
    "### Discussion\n",
    "The decision boundaries are axis-parallel. Accuracy seems decent (compared to the previous models and noting that the data is uneven), but let's look at one of the decision trees to see what is happening. We can access the trees using the estimators_attribute of the model."
   ]
  },
  {
   "cell_type": "code",
   "execution_count": 35,
   "metadata": {},
   "outputs": [
    {
     "data": {
      "image/svg+xml": [
       "<?xml version=\"1.0\" encoding=\"UTF-8\" standalone=\"no\"?>\r\n",
       "<!DOCTYPE svg PUBLIC \"-//W3C//DTD SVG 1.1//EN\"\r\n",
       " \"http://www.w3.org/Graphics/SVG/1.1/DTD/svg11.dtd\">\r\n",
       "<!-- Generated by graphviz version 2.38.0 (20140413.2041)\r\n",
       " -->\r\n",
       "<!-- Title: Tree Pages: 1 -->\r\n",
       "<svg width=\"2205pt\" height=\"671pt\"\r\n",
       " viewBox=\"0.00 0.00 2204.50 671.00\" xmlns=\"http://www.w3.org/2000/svg\" xmlns:xlink=\"http://www.w3.org/1999/xlink\">\r\n",
       "<g id=\"graph0\" class=\"graph\" transform=\"scale(1 1) rotate(0) translate(4 667)\">\r\n",
       "<title>Tree</title>\r\n",
       "<polygon fill=\"white\" stroke=\"none\" points=\"-4,4 -4,-667 2200.5,-667 2200.5,4 -4,4\"/>\r\n",
       "<!-- 0 -->\r\n",
       "<g id=\"node1\" class=\"node\"><title>0</title>\r\n",
       "<path fill=\"#eda978\" stroke=\"black\" d=\"M982,-663C982,-663 845,-663 845,-663 839,-663 833,-657 833,-651 833,-651 833,-592 833,-592 833,-586 839,-580 845,-580 845,-580 982,-580 982,-580 988,-580 994,-586 994,-592 994,-592 994,-651 994,-651 994,-657 988,-663 982,-663\"/>\r\n",
       "<text text-anchor=\"start\" x=\"841\" y=\"-647.8\" font-family=\"Helvetica,sans-Serif\" font-size=\"14.00\">last_evaluation ≤ 0.575</text>\r\n",
       "<text text-anchor=\"start\" x=\"876\" y=\"-632.8\" font-family=\"Helvetica,sans-Serif\" font-size=\"14.00\">gini = 0.367</text>\r\n",
       "<text text-anchor=\"start\" x=\"862\" y=\"-617.8\" font-family=\"Helvetica,sans-Serif\" font-size=\"14.00\">samples = 6687</text>\r\n",
       "<text text-anchor=\"start\" x=\"848.5\" y=\"-602.8\" font-family=\"Helvetica,sans-Serif\" font-size=\"14.00\">value = [7960, 2539]</text>\r\n",
       "<text text-anchor=\"start\" x=\"881\" y=\"-587.8\" font-family=\"Helvetica,sans-Serif\" font-size=\"14.00\">class = no</text>\r\n",
       "</g>\r\n",
       "<!-- 1 -->\r\n",
       "<g id=\"node2\" class=\"node\"><title>1</title>\r\n",
       "<path fill=\"#f5cfb4\" stroke=\"black\" d=\"M858,-544C858,-544 721,-544 721,-544 715,-544 709,-538 709,-532 709,-532 709,-473 709,-473 709,-467 715,-461 721,-461 721,-461 858,-461 858,-461 864,-461 870,-467 870,-473 870,-473 870,-532 870,-532 870,-538 864,-544 858,-544\"/>\r\n",
       "<text text-anchor=\"start\" x=\"717\" y=\"-528.8\" font-family=\"Helvetica,sans-Serif\" font-size=\"14.00\">last_evaluation ≤ 0.445</text>\r\n",
       "<text text-anchor=\"start\" x=\"752\" y=\"-513.8\" font-family=\"Helvetica,sans-Serif\" font-size=\"14.00\">gini = 0.472</text>\r\n",
       "<text text-anchor=\"start\" x=\"738\" y=\"-498.8\" font-family=\"Helvetica,sans-Serif\" font-size=\"14.00\">samples = 1926</text>\r\n",
       "<text text-anchor=\"start\" x=\"724.5\" y=\"-483.8\" font-family=\"Helvetica,sans-Serif\" font-size=\"14.00\">value = [1857, 1149]</text>\r\n",
       "<text text-anchor=\"start\" x=\"757\" y=\"-468.8\" font-family=\"Helvetica,sans-Serif\" font-size=\"14.00\">class = no</text>\r\n",
       "</g>\r\n",
       "<!-- 0&#45;&gt;1 -->\r\n",
       "<g id=\"edge1\" class=\"edge\"><title>0&#45;&gt;1</title>\r\n",
       "<path fill=\"none\" stroke=\"black\" d=\"M870.479,-579.907C860.572,-570.56 849.95,-560.538 839.766,-550.929\"/>\r\n",
       "<polygon fill=\"black\" stroke=\"black\" points=\"842.121,-548.338 832.445,-544.021 837.317,-553.429 842.121,-548.338\"/>\r\n",
       "<text text-anchor=\"middle\" x=\"833.171\" y=\"-565.31\" font-family=\"Helvetica,sans-Serif\" font-size=\"14.00\">True</text>\r\n",
       "</g>\r\n",
       "<!-- 18 -->\r\n",
       "<g id=\"node19\" class=\"node\"><title>18</title>\r\n",
       "<path fill=\"#eb9e66\" stroke=\"black\" d=\"M1115,-544C1115,-544 962,-544 962,-544 956,-544 950,-538 950,-532 950,-532 950,-473 950,-473 950,-467 956,-461 962,-461 962,-461 1115,-461 1115,-461 1121,-461 1127,-467 1127,-473 1127,-473 1127,-532 1127,-532 1127,-538 1121,-544 1115,-544\"/>\r\n",
       "<text text-anchor=\"start\" x=\"958\" y=\"-528.8\" font-family=\"Helvetica,sans-Serif\" font-size=\"14.00\">satisfaction_level ≤ 0.115</text>\r\n",
       "<text text-anchor=\"start\" x=\"1001\" y=\"-513.8\" font-family=\"Helvetica,sans-Serif\" font-size=\"14.00\">gini = 0.302</text>\r\n",
       "<text text-anchor=\"start\" x=\"987\" y=\"-498.8\" font-family=\"Helvetica,sans-Serif\" font-size=\"14.00\">samples = 4761</text>\r\n",
       "<text text-anchor=\"start\" x=\"973.5\" y=\"-483.8\" font-family=\"Helvetica,sans-Serif\" font-size=\"14.00\">value = [6103, 1390]</text>\r\n",
       "<text text-anchor=\"start\" x=\"1006\" y=\"-468.8\" font-family=\"Helvetica,sans-Serif\" font-size=\"14.00\">class = no</text>\r\n",
       "</g>\r\n",
       "<!-- 0&#45;&gt;18 -->\r\n",
       "<g id=\"edge18\" class=\"edge\"><title>0&#45;&gt;18</title>\r\n",
       "<path fill=\"none\" stroke=\"black\" d=\"M956.868,-579.907C966.855,-570.56 977.562,-560.538 987.828,-550.929\"/>\r\n",
       "<polygon fill=\"black\" stroke=\"black\" points=\"990.299,-553.41 995.209,-544.021 985.516,-548.299 990.299,-553.41\"/>\r\n",
       "<text text-anchor=\"middle\" x=\"994.383\" y=\"-565.307\" font-family=\"Helvetica,sans-Serif\" font-size=\"14.00\">False</text>\r\n",
       "</g>\r\n",
       "<!-- 2 -->\r\n",
       "<g id=\"node3\" class=\"node\"><title>2</title>\r\n",
       "<path fill=\"#e58139\" stroke=\"black\" d=\"M679,-417.5C679,-417.5 590,-417.5 590,-417.5 584,-417.5 578,-411.5 578,-405.5 578,-405.5 578,-361.5 578,-361.5 578,-355.5 584,-349.5 590,-349.5 590,-349.5 679,-349.5 679,-349.5 685,-349.5 691,-355.5 691,-361.5 691,-361.5 691,-405.5 691,-405.5 691,-411.5 685,-417.5 679,-417.5\"/>\r\n",
       "<text text-anchor=\"start\" x=\"605.5\" y=\"-402.3\" font-family=\"Helvetica,sans-Serif\" font-size=\"14.00\">gini = 0.0</text>\r\n",
       "<text text-anchor=\"start\" x=\"587\" y=\"-387.3\" font-family=\"Helvetica,sans-Serif\" font-size=\"14.00\">samples = 208</text>\r\n",
       "<text text-anchor=\"start\" x=\"586\" y=\"-372.3\" font-family=\"Helvetica,sans-Serif\" font-size=\"14.00\">value = [313, 0]</text>\r\n",
       "<text text-anchor=\"start\" x=\"602\" y=\"-357.3\" font-family=\"Helvetica,sans-Serif\" font-size=\"14.00\">class = no</text>\r\n",
       "</g>\r\n",
       "<!-- 1&#45;&gt;2 -->\r\n",
       "<g id=\"edge2\" class=\"edge\"><title>1&#45;&gt;2</title>\r\n",
       "<path fill=\"none\" stroke=\"black\" d=\"M735.724,-460.907C719.79,-448.88 702.375,-435.735 686.552,-423.791\"/>\r\n",
       "<polygon fill=\"black\" stroke=\"black\" points=\"688.529,-420.898 678.439,-417.667 684.312,-426.485 688.529,-420.898\"/>\r\n",
       "</g>\r\n",
       "<!-- 3 -->\r\n",
       "<g id=\"node4\" class=\"node\"><title>3</title>\r\n",
       "<path fill=\"#f8dfcc\" stroke=\"black\" d=\"M858,-425C858,-425 721,-425 721,-425 715,-425 709,-419 709,-413 709,-413 709,-354 709,-354 709,-348 715,-342 721,-342 721,-342 858,-342 858,-342 864,-342 870,-348 870,-354 870,-354 870,-413 870,-413 870,-419 864,-425 858,-425\"/>\r\n",
       "<text text-anchor=\"start\" x=\"717\" y=\"-409.8\" font-family=\"Helvetica,sans-Serif\" font-size=\"14.00\">last_evaluation ≤ 0.475</text>\r\n",
       "<text text-anchor=\"start\" x=\"752\" y=\"-394.8\" font-family=\"Helvetica,sans-Serif\" font-size=\"14.00\">gini = 0.489</text>\r\n",
       "<text text-anchor=\"start\" x=\"738\" y=\"-379.8\" font-family=\"Helvetica,sans-Serif\" font-size=\"14.00\">samples = 1718</text>\r\n",
       "<text text-anchor=\"start\" x=\"724.5\" y=\"-364.8\" font-family=\"Helvetica,sans-Serif\" font-size=\"14.00\">value = [1544, 1149]</text>\r\n",
       "<text text-anchor=\"start\" x=\"757\" y=\"-349.8\" font-family=\"Helvetica,sans-Serif\" font-size=\"14.00\">class = no</text>\r\n",
       "</g>\r\n",
       "<!-- 1&#45;&gt;3 -->\r\n",
       "<g id=\"edge3\" class=\"edge\"><title>1&#45;&gt;3</title>\r\n",
       "<path fill=\"none\" stroke=\"black\" d=\"M789.5,-460.907C789.5,-452.649 789.5,-443.864 789.5,-435.302\"/>\r\n",
       "<polygon fill=\"black\" stroke=\"black\" points=\"793,-435.021 789.5,-425.021 786,-435.021 793,-435.021\"/>\r\n",
       "</g>\r\n",
       "<!-- 4 -->\r\n",
       "<g id=\"node5\" class=\"node\"><title>4</title>\r\n",
       "<path fill=\"#90c8f0\" stroke=\"black\" d=\"M484,-306C484,-306 331,-306 331,-306 325,-306 319,-300 319,-294 319,-294 319,-235 319,-235 319,-229 325,-223 331,-223 331,-223 484,-223 484,-223 490,-223 496,-229 496,-235 496,-235 496,-294 496,-294 496,-300 490,-306 484,-306\"/>\r\n",
       "<text text-anchor=\"start\" x=\"327\" y=\"-290.8\" font-family=\"Helvetica,sans-Serif\" font-size=\"14.00\">satisfaction_level ≤ 0.465</text>\r\n",
       "<text text-anchor=\"start\" x=\"370\" y=\"-275.8\" font-family=\"Helvetica,sans-Serif\" font-size=\"14.00\">gini = 0.424</text>\r\n",
       "<text text-anchor=\"start\" x=\"360\" y=\"-260.8\" font-family=\"Helvetica,sans-Serif\" font-size=\"14.00\">samples = 222</text>\r\n",
       "<text text-anchor=\"start\" x=\"350.5\" y=\"-245.8\" font-family=\"Helvetica,sans-Serif\" font-size=\"14.00\">value = [109, 249]</text>\r\n",
       "<text text-anchor=\"start\" x=\"371.5\" y=\"-230.8\" font-family=\"Helvetica,sans-Serif\" font-size=\"14.00\">class = yes</text>\r\n",
       "</g>\r\n",
       "<!-- 3&#45;&gt;4 -->\r\n",
       "<g id=\"edge4\" class=\"edge\"><title>3&#45;&gt;4</title>\r\n",
       "<path fill=\"none\" stroke=\"black\" d=\"M708.806,-345.424C705.679,-344.231 702.57,-343.084 699.5,-342 636.206,-319.643 563.148,-300.507 505.943,-286.966\"/>\r\n",
       "<polygon fill=\"black\" stroke=\"black\" points=\"506.714,-283.552 496.179,-284.672 505.113,-290.366 506.714,-283.552\"/>\r\n",
       "</g>\r\n",
       "<!-- 11 -->\r\n",
       "<g id=\"node12\" class=\"node\"><title>11</title>\r\n",
       "<path fill=\"#f5d0b5\" stroke=\"black\" d=\"M858,-306C858,-306 721,-306 721,-306 715,-306 709,-300 709,-294 709,-294 709,-235 709,-235 709,-229 715,-223 721,-223 721,-223 858,-223 858,-223 864,-223 870,-229 870,-235 870,-235 870,-294 870,-294 870,-300 864,-306 858,-306\"/>\r\n",
       "<text text-anchor=\"start\" x=\"717\" y=\"-290.8\" font-family=\"Helvetica,sans-Serif\" font-size=\"14.00\">last_evaluation ≤ 0.555</text>\r\n",
       "<text text-anchor=\"start\" x=\"752\" y=\"-275.8\" font-family=\"Helvetica,sans-Serif\" font-size=\"14.00\">gini = 0.474</text>\r\n",
       "<text text-anchor=\"start\" x=\"738\" y=\"-260.8\" font-family=\"Helvetica,sans-Serif\" font-size=\"14.00\">samples = 1496</text>\r\n",
       "<text text-anchor=\"start\" x=\"728.5\" y=\"-245.8\" font-family=\"Helvetica,sans-Serif\" font-size=\"14.00\">value = [1435, 900]</text>\r\n",
       "<text text-anchor=\"start\" x=\"757\" y=\"-230.8\" font-family=\"Helvetica,sans-Serif\" font-size=\"14.00\">class = no</text>\r\n",
       "</g>\r\n",
       "<!-- 3&#45;&gt;11 -->\r\n",
       "<g id=\"edge11\" class=\"edge\"><title>3&#45;&gt;11</title>\r\n",
       "<path fill=\"none\" stroke=\"black\" d=\"M789.5,-341.907C789.5,-333.649 789.5,-324.864 789.5,-316.302\"/>\r\n",
       "<polygon fill=\"black\" stroke=\"black\" points=\"793,-316.021 789.5,-306.021 786,-316.021 793,-316.021\"/>\r\n",
       "</g>\r\n",
       "<!-- 5 -->\r\n",
       "<g id=\"node6\" class=\"node\"><title>5</title>\r\n",
       "<path fill=\"#62b1ea\" stroke=\"black\" d=\"M261,-187C261,-187 108,-187 108,-187 102,-187 96,-181 96,-175 96,-175 96,-116 96,-116 96,-110 102,-104 108,-104 108,-104 261,-104 261,-104 267,-104 273,-110 273,-116 273,-116 273,-175 273,-175 273,-181 267,-187 261,-187\"/>\r\n",
       "<text text-anchor=\"start\" x=\"104\" y=\"-171.8\" font-family=\"Helvetica,sans-Serif\" font-size=\"14.00\">satisfaction_level ≤ 0.355</text>\r\n",
       "<text text-anchor=\"start\" x=\"147\" y=\"-156.8\" font-family=\"Helvetica,sans-Serif\" font-size=\"14.00\">gini = 0.282</text>\r\n",
       "<text text-anchor=\"start\" x=\"137\" y=\"-141.8\" font-family=\"Helvetica,sans-Serif\" font-size=\"14.00\">samples = 182</text>\r\n",
       "<text text-anchor=\"start\" x=\"131.5\" y=\"-126.8\" font-family=\"Helvetica,sans-Serif\" font-size=\"14.00\">value = [50, 244]</text>\r\n",
       "<text text-anchor=\"start\" x=\"148.5\" y=\"-111.8\" font-family=\"Helvetica,sans-Serif\" font-size=\"14.00\">class = yes</text>\r\n",
       "</g>\r\n",
       "<!-- 4&#45;&gt;5 -->\r\n",
       "<g id=\"edge5\" class=\"edge\"><title>4&#45;&gt;5</title>\r\n",
       "<path fill=\"none\" stroke=\"black\" d=\"M330.131,-222.907C310.932,-212.834 290.238,-201.977 270.646,-191.698\"/>\r\n",
       "<polygon fill=\"black\" stroke=\"black\" points=\"272.213,-188.568 261.732,-187.021 268.961,-194.766 272.213,-188.568\"/>\r\n",
       "</g>\r\n",
       "<!-- 8 -->\r\n",
       "<g id=\"node9\" class=\"node\"><title>8</title>\r\n",
       "<path fill=\"#e78c4a\" stroke=\"black\" d=\"M480,-187C480,-187 335,-187 335,-187 329,-187 323,-181 323,-175 323,-175 323,-116 323,-116 323,-110 329,-104 335,-104 335,-104 480,-104 480,-104 486,-104 492,-110 492,-116 492,-116 492,-175 492,-175 492,-181 486,-187 480,-187\"/>\r\n",
       "<text text-anchor=\"start\" x=\"331\" y=\"-171.8\" font-family=\"Helvetica,sans-Serif\" font-size=\"14.00\">satisfaction_level ≤ 0.67</text>\r\n",
       "<text text-anchor=\"start\" x=\"370\" y=\"-156.8\" font-family=\"Helvetica,sans-Serif\" font-size=\"14.00\">gini = 0.144</text>\r\n",
       "<text text-anchor=\"start\" x=\"364\" y=\"-141.8\" font-family=\"Helvetica,sans-Serif\" font-size=\"14.00\">samples = 40</text>\r\n",
       "<text text-anchor=\"start\" x=\"363\" y=\"-126.8\" font-family=\"Helvetica,sans-Serif\" font-size=\"14.00\">value = [59, 5]</text>\r\n",
       "<text text-anchor=\"start\" x=\"375\" y=\"-111.8\" font-family=\"Helvetica,sans-Serif\" font-size=\"14.00\">class = no</text>\r\n",
       "</g>\r\n",
       "<!-- 4&#45;&gt;8 -->\r\n",
       "<g id=\"edge8\" class=\"edge\"><title>4&#45;&gt;8</title>\r\n",
       "<path fill=\"none\" stroke=\"black\" d=\"M407.5,-222.907C407.5,-214.649 407.5,-205.864 407.5,-197.302\"/>\r\n",
       "<polygon fill=\"black\" stroke=\"black\" points=\"411,-197.021 407.5,-187.021 404,-197.021 411,-197.021\"/>\r\n",
       "</g>\r\n",
       "<!-- 6 -->\r\n",
       "<g id=\"node7\" class=\"node\"><title>6</title>\r\n",
       "<path fill=\"#eca26d\" stroke=\"black\" d=\"M93,-68C93,-68 12,-68 12,-68 6,-68 0,-62 0,-56 0,-56 0,-12 0,-12 0,-6 6,-0 12,-0 12,-0 93,-0 93,-0 99,-0 105,-6 105,-12 105,-12 105,-56 105,-56 105,-62 99,-68 93,-68\"/>\r\n",
       "<text text-anchor=\"start\" x=\"15\" y=\"-52.8\" font-family=\"Helvetica,sans-Serif\" font-size=\"14.00\">gini = 0.328</text>\r\n",
       "<text text-anchor=\"start\" x=\"9\" y=\"-37.8\" font-family=\"Helvetica,sans-Serif\" font-size=\"14.00\">samples = 16</text>\r\n",
       "<text text-anchor=\"start\" x=\"8\" y=\"-22.8\" font-family=\"Helvetica,sans-Serif\" font-size=\"14.00\">value = [23, 6]</text>\r\n",
       "<text text-anchor=\"start\" x=\"20\" y=\"-7.8\" font-family=\"Helvetica,sans-Serif\" font-size=\"14.00\">class = no</text>\r\n",
       "</g>\r\n",
       "<!-- 5&#45;&gt;6 -->\r\n",
       "<g id=\"edge6\" class=\"edge\"><title>5&#45;&gt;6</title>\r\n",
       "<path fill=\"none\" stroke=\"black\" d=\"M135.348,-103.726C123.913,-94.2406 111.755,-84.1551 100.377,-74.7159\"/>\r\n",
       "<polygon fill=\"black\" stroke=\"black\" points=\"102.573,-71.9905 92.642,-68.2996 98.1039,-77.3781 102.573,-71.9905\"/>\r\n",
       "</g>\r\n",
       "<!-- 7 -->\r\n",
       "<g id=\"node8\" class=\"node\"><title>7</title>\r\n",
       "<path fill=\"#4fa8e8\" stroke=\"black\" d=\"M233.5,-68C233.5,-68 135.5,-68 135.5,-68 129.5,-68 123.5,-62 123.5,-56 123.5,-56 123.5,-12 123.5,-12 123.5,-6 129.5,-0 135.5,-0 135.5,-0 233.5,-0 233.5,-0 239.5,-0 245.5,-6 245.5,-12 245.5,-12 245.5,-56 245.5,-56 245.5,-62 239.5,-68 233.5,-68\"/>\r\n",
       "<text text-anchor=\"start\" x=\"147\" y=\"-52.8\" font-family=\"Helvetica,sans-Serif\" font-size=\"14.00\">gini = 0.183</text>\r\n",
       "<text text-anchor=\"start\" x=\"137\" y=\"-37.8\" font-family=\"Helvetica,sans-Serif\" font-size=\"14.00\">samples = 166</text>\r\n",
       "<text text-anchor=\"start\" x=\"131.5\" y=\"-22.8\" font-family=\"Helvetica,sans-Serif\" font-size=\"14.00\">value = [27, 238]</text>\r\n",
       "<text text-anchor=\"start\" x=\"148.5\" y=\"-7.8\" font-family=\"Helvetica,sans-Serif\" font-size=\"14.00\">class = yes</text>\r\n",
       "</g>\r\n",
       "<!-- 5&#45;&gt;7 -->\r\n",
       "<g id=\"edge7\" class=\"edge\"><title>5&#45;&gt;7</title>\r\n",
       "<path fill=\"none\" stroke=\"black\" d=\"M184.5,-103.726C184.5,-95.5175 184.5,-86.8595 184.5,-78.56\"/>\r\n",
       "<polygon fill=\"black\" stroke=\"black\" points=\"188,-78.2996 184.5,-68.2996 181,-78.2996 188,-78.2996\"/>\r\n",
       "</g>\r\n",
       "<!-- 9 -->\r\n",
       "<g id=\"node10\" class=\"node\"><title>9</title>\r\n",
       "<path fill=\"#e99457\" stroke=\"black\" d=\"M357,-68C357,-68 276,-68 276,-68 270,-68 264,-62 264,-56 264,-56 264,-12 264,-12 264,-6 270,-0 276,-0 276,-0 357,-0 357,-0 363,-0 369,-6 369,-12 369,-12 369,-56 369,-56 369,-62 363,-68 357,-68\"/>\r\n",
       "<text text-anchor=\"start\" x=\"279\" y=\"-52.8\" font-family=\"Helvetica,sans-Serif\" font-size=\"14.00\">gini = 0.229</text>\r\n",
       "<text text-anchor=\"start\" x=\"273\" y=\"-37.8\" font-family=\"Helvetica,sans-Serif\" font-size=\"14.00\">samples = 24</text>\r\n",
       "<text text-anchor=\"start\" x=\"272\" y=\"-22.8\" font-family=\"Helvetica,sans-Serif\" font-size=\"14.00\">value = [33, 5]</text>\r\n",
       "<text text-anchor=\"start\" x=\"284\" y=\"-7.8\" font-family=\"Helvetica,sans-Serif\" font-size=\"14.00\">class = no</text>\r\n",
       "</g>\r\n",
       "<!-- 8&#45;&gt;9 -->\r\n",
       "<g id=\"edge9\" class=\"edge\"><title>8&#45;&gt;9</title>\r\n",
       "<path fill=\"none\" stroke=\"black\" d=\"M373.615,-103.726C366.111,-94.6966 358.155,-85.1235 350.641,-76.0816\"/>\r\n",
       "<polygon fill=\"black\" stroke=\"black\" points=\"353.257,-73.7534 344.174,-68.2996 347.873,-78.2275 353.257,-73.7534\"/>\r\n",
       "</g>\r\n",
       "<!-- 10 -->\r\n",
       "<g id=\"node11\" class=\"node\"><title>10</title>\r\n",
       "<path fill=\"#e58139\" stroke=\"black\" d=\"M480,-68C480,-68 399,-68 399,-68 393,-68 387,-62 387,-56 387,-56 387,-12 387,-12 387,-6 393,-0 399,-0 399,-0 480,-0 480,-0 486,-0 492,-6 492,-12 492,-12 492,-56 492,-56 492,-62 486,-68 480,-68\"/>\r\n",
       "<text text-anchor=\"start\" x=\"410.5\" y=\"-52.8\" font-family=\"Helvetica,sans-Serif\" font-size=\"14.00\">gini = 0.0</text>\r\n",
       "<text text-anchor=\"start\" x=\"396\" y=\"-37.8\" font-family=\"Helvetica,sans-Serif\" font-size=\"14.00\">samples = 16</text>\r\n",
       "<text text-anchor=\"start\" x=\"395\" y=\"-22.8\" font-family=\"Helvetica,sans-Serif\" font-size=\"14.00\">value = [26, 0]</text>\r\n",
       "<text text-anchor=\"start\" x=\"407\" y=\"-7.8\" font-family=\"Helvetica,sans-Serif\" font-size=\"14.00\">class = no</text>\r\n",
       "</g>\r\n",
       "<!-- 8&#45;&gt;10 -->\r\n",
       "<g id=\"edge10\" class=\"edge\"><title>8&#45;&gt;10</title>\r\n",
       "<path fill=\"none\" stroke=\"black\" d=\"M419.416,-103.726C421.868,-95.3351 424.457,-86.4745 426.932,-78.0072\"/>\r\n",
       "<polygon fill=\"black\" stroke=\"black\" points=\"430.323,-78.8799 429.769,-68.2996 423.604,-76.9163 430.323,-78.8799\"/>\r\n",
       "</g>\r\n",
       "<!-- 12 -->\r\n",
       "<g id=\"node13\" class=\"node\"><title>12</title>\r\n",
       "<path fill=\"#f6d4bc\" stroke=\"black\" d=\"M768,-187C768,-187 615,-187 615,-187 609,-187 603,-181 603,-175 603,-175 603,-116 603,-116 603,-110 609,-104 615,-104 615,-104 768,-104 768,-104 774,-104 780,-110 780,-116 780,-116 780,-175 780,-175 780,-181 774,-187 768,-187\"/>\r\n",
       "<text text-anchor=\"start\" x=\"611\" y=\"-171.8\" font-family=\"Helvetica,sans-Serif\" font-size=\"14.00\">satisfaction_level ≤ 0.465</text>\r\n",
       "<text text-anchor=\"start\" x=\"654\" y=\"-156.8\" font-family=\"Helvetica,sans-Serif\" font-size=\"14.00\">gini = 0.479</text>\r\n",
       "<text text-anchor=\"start\" x=\"640\" y=\"-141.8\" font-family=\"Helvetica,sans-Serif\" font-size=\"14.00\">samples = 1202</text>\r\n",
       "<text text-anchor=\"start\" x=\"630.5\" y=\"-126.8\" font-family=\"Helvetica,sans-Serif\" font-size=\"14.00\">value = [1130, 745]</text>\r\n",
       "<text text-anchor=\"start\" x=\"659\" y=\"-111.8\" font-family=\"Helvetica,sans-Serif\" font-size=\"14.00\">class = no</text>\r\n",
       "</g>\r\n",
       "<!-- 11&#45;&gt;12 -->\r\n",
       "<g id=\"edge12\" class=\"edge\"><title>11&#45;&gt;12</title>\r\n",
       "<path fill=\"none\" stroke=\"black\" d=\"M755.499,-222.907C747.898,-213.832 739.764,-204.121 731.931,-194.769\"/>\r\n",
       "<polygon fill=\"black\" stroke=\"black\" points=\"734.545,-192.439 725.441,-187.021 729.179,-196.934 734.545,-192.439\"/>\r\n",
       "</g>\r\n",
       "<!-- 15 -->\r\n",
       "<g id=\"node16\" class=\"node\"><title>15</title>\r\n",
       "<path fill=\"#f2c19e\" stroke=\"black\" d=\"M963,-187C963,-187 810,-187 810,-187 804,-187 798,-181 798,-175 798,-175 798,-116 798,-116 798,-110 804,-104 810,-104 810,-104 963,-104 963,-104 969,-104 975,-110 975,-116 975,-116 975,-175 975,-175 975,-181 969,-187 963,-187\"/>\r\n",
       "<text text-anchor=\"start\" x=\"806\" y=\"-171.8\" font-family=\"Helvetica,sans-Serif\" font-size=\"14.00\">satisfaction_level ≤ 0.465</text>\r\n",
       "<text text-anchor=\"start\" x=\"849\" y=\"-156.8\" font-family=\"Helvetica,sans-Serif\" font-size=\"14.00\">gini = 0.447</text>\r\n",
       "<text text-anchor=\"start\" x=\"839\" y=\"-141.8\" font-family=\"Helvetica,sans-Serif\" font-size=\"14.00\">samples = 294</text>\r\n",
       "<text text-anchor=\"start\" x=\"829.5\" y=\"-126.8\" font-family=\"Helvetica,sans-Serif\" font-size=\"14.00\">value = [305, 155]</text>\r\n",
       "<text text-anchor=\"start\" x=\"854\" y=\"-111.8\" font-family=\"Helvetica,sans-Serif\" font-size=\"14.00\">class = no</text>\r\n",
       "</g>\r\n",
       "<!-- 11&#45;&gt;15 -->\r\n",
       "<g id=\"edge15\" class=\"edge\"><title>11&#45;&gt;15</title>\r\n",
       "<path fill=\"none\" stroke=\"black\" d=\"M823.154,-222.907C830.677,-213.832 838.729,-204.121 846.482,-194.769\"/>\r\n",
       "<polygon fill=\"black\" stroke=\"black\" points=\"849.218,-196.953 852.906,-187.021 843.829,-192.485 849.218,-196.953\"/>\r\n",
       "</g>\r\n",
       "<!-- 13 -->\r\n",
       "<g id=\"node14\" class=\"node\"><title>13</title>\r\n",
       "<path fill=\"#5fb0ea\" stroke=\"black\" d=\"M628.5,-68C628.5,-68 522.5,-68 522.5,-68 516.5,-68 510.5,-62 510.5,-56 510.5,-56 510.5,-12 510.5,-12 510.5,-6 516.5,-0 522.5,-0 522.5,-0 628.5,-0 628.5,-0 634.5,-0 640.5,-6 640.5,-12 640.5,-12 640.5,-56 640.5,-56 640.5,-62 634.5,-68 628.5,-68\"/>\r\n",
       "<text text-anchor=\"start\" x=\"538\" y=\"-52.8\" font-family=\"Helvetica,sans-Serif\" font-size=\"14.00\">gini = 0.271</text>\r\n",
       "<text text-anchor=\"start\" x=\"528\" y=\"-37.8\" font-family=\"Helvetica,sans-Serif\" font-size=\"14.00\">samples = 553</text>\r\n",
       "<text text-anchor=\"start\" x=\"518.5\" y=\"-22.8\" font-family=\"Helvetica,sans-Serif\" font-size=\"14.00\">value = [140, 727]</text>\r\n",
       "<text text-anchor=\"start\" x=\"539.5\" y=\"-7.8\" font-family=\"Helvetica,sans-Serif\" font-size=\"14.00\">class = yes</text>\r\n",
       "</g>\r\n",
       "<!-- 12&#45;&gt;13 -->\r\n",
       "<g id=\"edge13\" class=\"edge\"><title>12&#45;&gt;13</title>\r\n",
       "<path fill=\"none\" stroke=\"black\" d=\"M648.306,-103.726C638.45,-94.423 627.984,-84.5428 618.151,-75.2612\"/>\r\n",
       "<polygon fill=\"black\" stroke=\"black\" points=\"620.451,-72.6189 610.776,-68.2996 615.646,-77.7092 620.451,-72.6189\"/>\r\n",
       "</g>\r\n",
       "<!-- 14 -->\r\n",
       "<g id=\"node15\" class=\"node\"><title>14</title>\r\n",
       "<path fill=\"#e5833d\" stroke=\"black\" d=\"M768.5,-68C768.5,-68 670.5,-68 670.5,-68 664.5,-68 658.5,-62 658.5,-56 658.5,-56 658.5,-12 658.5,-12 658.5,-6 664.5,-0 670.5,-0 670.5,-0 768.5,-0 768.5,-0 774.5,-0 780.5,-6 780.5,-12 780.5,-12 780.5,-56 780.5,-56 780.5,-62 774.5,-68 768.5,-68\"/>\r\n",
       "<text text-anchor=\"start\" x=\"682\" y=\"-52.8\" font-family=\"Helvetica,sans-Serif\" font-size=\"14.00\">gini = 0.035</text>\r\n",
       "<text text-anchor=\"start\" x=\"672\" y=\"-37.8\" font-family=\"Helvetica,sans-Serif\" font-size=\"14.00\">samples = 649</text>\r\n",
       "<text text-anchor=\"start\" x=\"666.5\" y=\"-22.8\" font-family=\"Helvetica,sans-Serif\" font-size=\"14.00\">value = [990, 18]</text>\r\n",
       "<text text-anchor=\"start\" x=\"687\" y=\"-7.8\" font-family=\"Helvetica,sans-Serif\" font-size=\"14.00\">class = no</text>\r\n",
       "</g>\r\n",
       "<!-- 12&#45;&gt;14 -->\r\n",
       "<g id=\"edge14\" class=\"edge\"><title>12&#45;&gt;14</title>\r\n",
       "<path fill=\"none\" stroke=\"black\" d=\"M701.926,-103.726C704.072,-95.3351 706.338,-86.4745 708.503,-78.0072\"/>\r\n",
       "<polygon fill=\"black\" stroke=\"black\" points=\"711.898,-78.855 710.985,-68.2996 705.117,-77.1208 711.898,-78.855\"/>\r\n",
       "</g>\r\n",
       "<!-- 16 -->\r\n",
       "<g id=\"node17\" class=\"node\"><title>16</title>\r\n",
       "<path fill=\"#6eb7ec\" stroke=\"black\" d=\"M908.5,-68C908.5,-68 810.5,-68 810.5,-68 804.5,-68 798.5,-62 798.5,-56 798.5,-56 798.5,-12 798.5,-12 798.5,-6 804.5,-0 810.5,-0 810.5,-0 908.5,-0 908.5,-0 914.5,-0 920.5,-6 920.5,-12 920.5,-12 920.5,-56 920.5,-56 920.5,-62 914.5,-68 908.5,-68\"/>\r\n",
       "<text text-anchor=\"start\" x=\"822\" y=\"-52.8\" font-family=\"Helvetica,sans-Serif\" font-size=\"14.00\">gini = 0.333</text>\r\n",
       "<text text-anchor=\"start\" x=\"812\" y=\"-37.8\" font-family=\"Helvetica,sans-Serif\" font-size=\"14.00\">samples = 120</text>\r\n",
       "<text text-anchor=\"start\" x=\"806.5\" y=\"-22.8\" font-family=\"Helvetica,sans-Serif\" font-size=\"14.00\">value = [41, 153]</text>\r\n",
       "<text text-anchor=\"start\" x=\"823.5\" y=\"-7.8\" font-family=\"Helvetica,sans-Serif\" font-size=\"14.00\">class = yes</text>\r\n",
       "</g>\r\n",
       "<!-- 15&#45;&gt;16 -->\r\n",
       "<g id=\"edge16\" class=\"edge\"><title>15&#45;&gt;16</title>\r\n",
       "<path fill=\"none\" stroke=\"black\" d=\"M876.446,-103.726C874.4,-95.4263 872.24,-86.6671 870.173,-78.2834\"/>\r\n",
       "<polygon fill=\"black\" stroke=\"black\" points=\"873.503,-77.1709 867.711,-68.2996 866.707,-78.8467 873.503,-77.1709\"/>\r\n",
       "</g>\r\n",
       "<!-- 17 -->\r\n",
       "<g id=\"node18\" class=\"node\"><title>17</title>\r\n",
       "<path fill=\"#e5823b\" stroke=\"black\" d=\"M1040,-68C1040,-68 951,-68 951,-68 945,-68 939,-62 939,-56 939,-56 939,-12 939,-12 939,-6 945,-0 951,-0 951,-0 1040,-0 1040,-0 1046,-0 1052,-6 1052,-12 1052,-12 1052,-56 1052,-56 1052,-62 1046,-68 1040,-68\"/>\r\n",
       "<text text-anchor=\"start\" x=\"958\" y=\"-52.8\" font-family=\"Helvetica,sans-Serif\" font-size=\"14.00\">gini = 0.015</text>\r\n",
       "<text text-anchor=\"start\" x=\"948\" y=\"-37.8\" font-family=\"Helvetica,sans-Serif\" font-size=\"14.00\">samples = 174</text>\r\n",
       "<text text-anchor=\"start\" x=\"947\" y=\"-22.8\" font-family=\"Helvetica,sans-Serif\" font-size=\"14.00\">value = [264, 2]</text>\r\n",
       "<text text-anchor=\"start\" x=\"963\" y=\"-7.8\" font-family=\"Helvetica,sans-Serif\" font-size=\"14.00\">class = no</text>\r\n",
       "</g>\r\n",
       "<!-- 15&#45;&gt;17 -->\r\n",
       "<g id=\"edge17\" class=\"edge\"><title>15&#45;&gt;17</title>\r\n",
       "<path fill=\"none\" stroke=\"black\" d=\"M927.088,-103.726C936.258,-94.5142 945.991,-84.7364 955.151,-75.5343\"/>\r\n",
       "<polygon fill=\"black\" stroke=\"black\" points=\"957.778,-77.8561 962.352,-68.2996 952.817,-72.9176 957.778,-77.8561\"/>\r\n",
       "</g>\r\n",
       "<!-- 19 -->\r\n",
       "<g id=\"node20\" class=\"node\"><title>19</title>\r\n",
       "<path fill=\"#399de5\" stroke=\"black\" d=\"M1083,-417.5C1083,-417.5 994,-417.5 994,-417.5 988,-417.5 982,-411.5 982,-405.5 982,-405.5 982,-361.5 982,-361.5 982,-355.5 988,-349.5 994,-349.5 994,-349.5 1083,-349.5 1083,-349.5 1089,-349.5 1095,-355.5 1095,-361.5 1095,-361.5 1095,-405.5 1095,-405.5 1095,-411.5 1089,-417.5 1083,-417.5\"/>\r\n",
       "<text text-anchor=\"start\" x=\"1009.5\" y=\"-402.3\" font-family=\"Helvetica,sans-Serif\" font-size=\"14.00\">gini = 0.0</text>\r\n",
       "<text text-anchor=\"start\" x=\"991\" y=\"-387.3\" font-family=\"Helvetica,sans-Serif\" font-size=\"14.00\">samples = 399</text>\r\n",
       "<text text-anchor=\"start\" x=\"990\" y=\"-372.3\" font-family=\"Helvetica,sans-Serif\" font-size=\"14.00\">value = [0, 620]</text>\r\n",
       "<text text-anchor=\"start\" x=\"1002.5\" y=\"-357.3\" font-family=\"Helvetica,sans-Serif\" font-size=\"14.00\">class = yes</text>\r\n",
       "</g>\r\n",
       "<!-- 18&#45;&gt;19 -->\r\n",
       "<g id=\"edge19\" class=\"edge\"><title>18&#45;&gt;19</title>\r\n",
       "<path fill=\"none\" stroke=\"black\" d=\"M1038.5,-460.907C1038.5,-450.204 1038.5,-438.615 1038.5,-427.776\"/>\r\n",
       "<polygon fill=\"black\" stroke=\"black\" points=\"1042,-427.667 1038.5,-417.667 1035,-427.667 1042,-427.667\"/>\r\n",
       "</g>\r\n",
       "<!-- 20 -->\r\n",
       "<g id=\"node21\" class=\"node\"><title>20</title>\r\n",
       "<path fill=\"#e89152\" stroke=\"black\" d=\"M1411,-425C1411,-425 1274,-425 1274,-425 1268,-425 1262,-419 1262,-413 1262,-413 1262,-354 1262,-354 1262,-348 1268,-342 1274,-342 1274,-342 1411,-342 1411,-342 1417,-342 1423,-348 1423,-354 1423,-354 1423,-413 1423,-413 1423,-419 1417,-425 1411,-425\"/>\r\n",
       "<text text-anchor=\"start\" x=\"1270\" y=\"-409.8\" font-family=\"Helvetica,sans-Serif\" font-size=\"14.00\">last_evaluation ≤ 0.825</text>\r\n",
       "<text text-anchor=\"start\" x=\"1305\" y=\"-394.8\" font-family=\"Helvetica,sans-Serif\" font-size=\"14.00\">gini = 0.199</text>\r\n",
       "<text text-anchor=\"start\" x=\"1291\" y=\"-379.8\" font-family=\"Helvetica,sans-Serif\" font-size=\"14.00\">samples = 4362</text>\r\n",
       "<text text-anchor=\"start\" x=\"1281.5\" y=\"-364.8\" font-family=\"Helvetica,sans-Serif\" font-size=\"14.00\">value = [6103, 770]</text>\r\n",
       "<text text-anchor=\"start\" x=\"1310\" y=\"-349.8\" font-family=\"Helvetica,sans-Serif\" font-size=\"14.00\">class = no</text>\r\n",
       "</g>\r\n",
       "<!-- 18&#45;&gt;20 -->\r\n",
       "<g id=\"edge20\" class=\"edge\"><title>18&#45;&gt;20</title>\r\n",
       "<path fill=\"none\" stroke=\"black\" d=\"M1127.25,-467.344C1166.67,-452.17 1213.01,-434.337 1252.57,-419.111\"/>\r\n",
       "<polygon fill=\"black\" stroke=\"black\" points=\"1253.87,-422.36 1261.95,-415.502 1251.36,-415.827 1253.87,-422.36\"/>\r\n",
       "</g>\r\n",
       "<!-- 21 -->\r\n",
       "<g id=\"node22\" class=\"node\"><title>21</title>\r\n",
       "<path fill=\"#e6843e\" stroke=\"black\" d=\"M1419,-306C1419,-306 1266,-306 1266,-306 1260,-306 1254,-300 1254,-294 1254,-294 1254,-235 1254,-235 1254,-229 1260,-223 1266,-223 1266,-223 1419,-223 1419,-223 1425,-223 1431,-229 1431,-235 1431,-235 1431,-294 1431,-294 1431,-300 1425,-306 1419,-306\"/>\r\n",
       "<text text-anchor=\"start\" x=\"1262\" y=\"-290.8\" font-family=\"Helvetica,sans-Serif\" font-size=\"14.00\">satisfaction_level ≤ 0.465</text>\r\n",
       "<text text-anchor=\"start\" x=\"1305\" y=\"-275.8\" font-family=\"Helvetica,sans-Serif\" font-size=\"14.00\">gini = 0.047</text>\r\n",
       "<text text-anchor=\"start\" x=\"1291\" y=\"-260.8\" font-family=\"Helvetica,sans-Serif\" font-size=\"14.00\">samples = 2447</text>\r\n",
       "<text text-anchor=\"start\" x=\"1285.5\" y=\"-245.8\" font-family=\"Helvetica,sans-Serif\" font-size=\"14.00\">value = [3798, 93]</text>\r\n",
       "<text text-anchor=\"start\" x=\"1310\" y=\"-230.8\" font-family=\"Helvetica,sans-Serif\" font-size=\"14.00\">class = no</text>\r\n",
       "</g>\r\n",
       "<!-- 20&#45;&gt;21 -->\r\n",
       "<g id=\"edge21\" class=\"edge\"><title>20&#45;&gt;21</title>\r\n",
       "<path fill=\"none\" stroke=\"black\" d=\"M1342.5,-341.907C1342.5,-333.649 1342.5,-324.864 1342.5,-316.302\"/>\r\n",
       "<polygon fill=\"black\" stroke=\"black\" points=\"1346,-316.021 1342.5,-306.021 1339,-316.021 1346,-316.021\"/>\r\n",
       "</g>\r\n",
       "<!-- 28 -->\r\n",
       "<g id=\"node29\" class=\"node\"><title>28</title>\r\n",
       "<path fill=\"#eda673\" stroke=\"black\" d=\"M1822,-306C1822,-306 1685,-306 1685,-306 1679,-306 1673,-300 1673,-294 1673,-294 1673,-235 1673,-235 1673,-229 1679,-223 1685,-223 1685,-223 1822,-223 1822,-223 1828,-223 1834,-229 1834,-235 1834,-235 1834,-294 1834,-294 1834,-300 1828,-306 1822,-306\"/>\r\n",
       "<text text-anchor=\"start\" x=\"1681\" y=\"-290.8\" font-family=\"Helvetica,sans-Serif\" font-size=\"14.00\">last_evaluation ≤ 0.995</text>\r\n",
       "<text text-anchor=\"start\" x=\"1716\" y=\"-275.8\" font-family=\"Helvetica,sans-Serif\" font-size=\"14.00\">gini = 0.351</text>\r\n",
       "<text text-anchor=\"start\" x=\"1702\" y=\"-260.8\" font-family=\"Helvetica,sans-Serif\" font-size=\"14.00\">samples = 1915</text>\r\n",
       "<text text-anchor=\"start\" x=\"1692.5\" y=\"-245.8\" font-family=\"Helvetica,sans-Serif\" font-size=\"14.00\">value = [2305, 677]</text>\r\n",
       "<text text-anchor=\"start\" x=\"1721\" y=\"-230.8\" font-family=\"Helvetica,sans-Serif\" font-size=\"14.00\">class = no</text>\r\n",
       "</g>\r\n",
       "<!-- 20&#45;&gt;28 -->\r\n",
       "<g id=\"edge28\" class=\"edge\"><title>20&#45;&gt;28</title>\r\n",
       "<path fill=\"none\" stroke=\"black\" d=\"M1423.21,-359.524C1492.2,-339.884 1591.4,-311.646 1663.05,-291.248\"/>\r\n",
       "<polygon fill=\"black\" stroke=\"black\" points=\"1664.32,-294.528 1672.97,-288.423 1662.4,-287.795 1664.32,-294.528\"/>\r\n",
       "</g>\r\n",
       "<!-- 22 -->\r\n",
       "<g id=\"node23\" class=\"node\"><title>22</title>\r\n",
       "<path fill=\"#e78c4a\" stroke=\"black\" d=\"M1322,-187C1322,-187 1185,-187 1185,-187 1179,-187 1173,-181 1173,-175 1173,-175 1173,-116 1173,-116 1173,-110 1179,-104 1185,-104 1185,-104 1322,-104 1322,-104 1328,-104 1334,-110 1334,-116 1334,-116 1334,-175 1334,-175 1334,-181 1328,-187 1322,-187\"/>\r\n",
       "<text text-anchor=\"start\" x=\"1181\" y=\"-171.8\" font-family=\"Helvetica,sans-Serif\" font-size=\"14.00\">last_evaluation ≤ 0.625</text>\r\n",
       "<text text-anchor=\"start\" x=\"1216\" y=\"-156.8\" font-family=\"Helvetica,sans-Serif\" font-size=\"14.00\">gini = 0.143</text>\r\n",
       "<text text-anchor=\"start\" x=\"1206\" y=\"-141.8\" font-family=\"Helvetica,sans-Serif\" font-size=\"14.00\">samples = 340</text>\r\n",
       "<text text-anchor=\"start\" x=\"1200.5\" y=\"-126.8\" font-family=\"Helvetica,sans-Serif\" font-size=\"14.00\">value = [490, 41]</text>\r\n",
       "<text text-anchor=\"start\" x=\"1221\" y=\"-111.8\" font-family=\"Helvetica,sans-Serif\" font-size=\"14.00\">class = no</text>\r\n",
       "</g>\r\n",
       "<!-- 21&#45;&gt;22 -->\r\n",
       "<g id=\"edge22\" class=\"edge\"><title>21&#45;&gt;22</title>\r\n",
       "<path fill=\"none\" stroke=\"black\" d=\"M1311.62,-222.907C1304.79,-213.923 1297.48,-204.315 1290.43,-195.05\"/>\r\n",
       "<polygon fill=\"black\" stroke=\"black\" points=\"1293.16,-192.861 1284.32,-187.021 1287.59,-197.099 1293.16,-192.861\"/>\r\n",
       "</g>\r\n",
       "<!-- 25 -->\r\n",
       "<g id=\"node26\" class=\"node\"><title>25</title>\r\n",
       "<path fill=\"#e5833c\" stroke=\"black\" d=\"M1501,-187C1501,-187 1364,-187 1364,-187 1358,-187 1352,-181 1352,-175 1352,-175 1352,-116 1352,-116 1352,-110 1358,-104 1364,-104 1364,-104 1501,-104 1501,-104 1507,-104 1513,-110 1513,-116 1513,-116 1513,-175 1513,-175 1513,-181 1507,-187 1501,-187\"/>\r\n",
       "<text text-anchor=\"start\" x=\"1360\" y=\"-171.8\" font-family=\"Helvetica,sans-Serif\" font-size=\"14.00\">last_evaluation ≤ 0.805</text>\r\n",
       "<text text-anchor=\"start\" x=\"1399\" y=\"-156.8\" font-family=\"Helvetica,sans-Serif\" font-size=\"14.00\">gini = 0.03</text>\r\n",
       "<text text-anchor=\"start\" x=\"1381\" y=\"-141.8\" font-family=\"Helvetica,sans-Serif\" font-size=\"14.00\">samples = 2107</text>\r\n",
       "<text text-anchor=\"start\" x=\"1375.5\" y=\"-126.8\" font-family=\"Helvetica,sans-Serif\" font-size=\"14.00\">value = [3308, 52]</text>\r\n",
       "<text text-anchor=\"start\" x=\"1400\" y=\"-111.8\" font-family=\"Helvetica,sans-Serif\" font-size=\"14.00\">class = no</text>\r\n",
       "</g>\r\n",
       "<!-- 21&#45;&gt;25 -->\r\n",
       "<g id=\"edge25\" class=\"edge\"><title>21&#45;&gt;25</title>\r\n",
       "<path fill=\"none\" stroke=\"black\" d=\"M1373.73,-222.907C1380.64,-213.923 1388.03,-204.315 1395.15,-195.05\"/>\r\n",
       "<polygon fill=\"black\" stroke=\"black\" points=\"1398.01,-197.081 1401.33,-187.021 1392.46,-192.813 1398.01,-197.081\"/>\r\n",
       "</g>\r\n",
       "<!-- 23 -->\r\n",
       "<g id=\"node24\" class=\"node\"><title>23</title>\r\n",
       "<path fill=\"#e99456\" stroke=\"black\" d=\"M1180.5,-68C1180.5,-68 1082.5,-68 1082.5,-68 1076.5,-68 1070.5,-62 1070.5,-56 1070.5,-56 1070.5,-12 1070.5,-12 1070.5,-6 1076.5,-0 1082.5,-0 1082.5,-0 1180.5,-0 1180.5,-0 1186.5,-0 1192.5,-6 1192.5,-12 1192.5,-12 1192.5,-56 1192.5,-56 1192.5,-62 1186.5,-68 1180.5,-68\"/>\r\n",
       "<text text-anchor=\"start\" x=\"1094\" y=\"-52.8\" font-family=\"Helvetica,sans-Serif\" font-size=\"14.00\">gini = 0.224</text>\r\n",
       "<text text-anchor=\"start\" x=\"1088\" y=\"-37.8\" font-family=\"Helvetica,sans-Serif\" font-size=\"14.00\">samples = 77</text>\r\n",
       "<text text-anchor=\"start\" x=\"1078.5\" y=\"-22.8\" font-family=\"Helvetica,sans-Serif\" font-size=\"14.00\">value = [102, 15]</text>\r\n",
       "<text text-anchor=\"start\" x=\"1099\" y=\"-7.8\" font-family=\"Helvetica,sans-Serif\" font-size=\"14.00\">class = no</text>\r\n",
       "</g>\r\n",
       "<!-- 22&#45;&gt;23 -->\r\n",
       "<g id=\"edge23\" class=\"edge\"><title>22&#45;&gt;23</title>\r\n",
       "<path fill=\"none\" stroke=\"black\" d=\"M1208.07,-103.726C1197.6,-94.3318 1186.48,-84.349 1176.05,-74.9883\"/>\r\n",
       "<polygon fill=\"black\" stroke=\"black\" points=\"1178.38,-72.3744 1168.6,-68.2996 1173.71,-77.5839 1178.38,-72.3744\"/>\r\n",
       "</g>\r\n",
       "<!-- 24 -->\r\n",
       "<g id=\"node25\" class=\"node\"><title>24</title>\r\n",
       "<path fill=\"#e78946\" stroke=\"black\" d=\"M1320.5,-68C1320.5,-68 1222.5,-68 1222.5,-68 1216.5,-68 1210.5,-62 1210.5,-56 1210.5,-56 1210.5,-12 1210.5,-12 1210.5,-6 1216.5,-0 1222.5,-0 1222.5,-0 1320.5,-0 1320.5,-0 1326.5,-0 1332.5,-6 1332.5,-12 1332.5,-12 1332.5,-56 1332.5,-56 1332.5,-62 1326.5,-68 1320.5,-68\"/>\r\n",
       "<text text-anchor=\"start\" x=\"1234\" y=\"-52.8\" font-family=\"Helvetica,sans-Serif\" font-size=\"14.00\">gini = 0.118</text>\r\n",
       "<text text-anchor=\"start\" x=\"1224\" y=\"-37.8\" font-family=\"Helvetica,sans-Serif\" font-size=\"14.00\">samples = 263</text>\r\n",
       "<text text-anchor=\"start\" x=\"1218.5\" y=\"-22.8\" font-family=\"Helvetica,sans-Serif\" font-size=\"14.00\">value = [388, 26]</text>\r\n",
       "<text text-anchor=\"start\" x=\"1239\" y=\"-7.8\" font-family=\"Helvetica,sans-Serif\" font-size=\"14.00\">class = no</text>\r\n",
       "</g>\r\n",
       "<!-- 22&#45;&gt;24 -->\r\n",
       "<g id=\"edge24\" class=\"edge\"><title>22&#45;&gt;24</title>\r\n",
       "<path fill=\"none\" stroke=\"black\" d=\"M1260.2,-103.726C1261.57,-95.4263 1263.01,-86.6671 1264.38,-78.2834\"/>\r\n",
       "<polygon fill=\"black\" stroke=\"black\" points=\"1267.86,-78.7349 1266.03,-68.2996 1260.95,-77.5994 1267.86,-78.7349\"/>\r\n",
       "</g>\r\n",
       "<!-- 26 -->\r\n",
       "<g id=\"node27\" class=\"node\"><title>26</title>\r\n",
       "<path fill=\"#e5823b\" stroke=\"black\" d=\"M1468.5,-68C1468.5,-68 1362.5,-68 1362.5,-68 1356.5,-68 1350.5,-62 1350.5,-56 1350.5,-56 1350.5,-12 1350.5,-12 1350.5,-6 1356.5,-0 1362.5,-0 1362.5,-0 1468.5,-0 1468.5,-0 1474.5,-0 1480.5,-6 1480.5,-12 1480.5,-12 1480.5,-56 1480.5,-56 1480.5,-62 1474.5,-68 1468.5,-68\"/>\r\n",
       "<text text-anchor=\"start\" x=\"1378\" y=\"-52.8\" font-family=\"Helvetica,sans-Serif\" font-size=\"14.00\">gini = 0.019</text>\r\n",
       "<text text-anchor=\"start\" x=\"1364\" y=\"-37.8\" font-family=\"Helvetica,sans-Serif\" font-size=\"14.00\">samples = 1944</text>\r\n",
       "<text text-anchor=\"start\" x=\"1358.5\" y=\"-22.8\" font-family=\"Helvetica,sans-Serif\" font-size=\"14.00\">value = [3055, 29]</text>\r\n",
       "<text text-anchor=\"start\" x=\"1383\" y=\"-7.8\" font-family=\"Helvetica,sans-Serif\" font-size=\"14.00\">class = no</text>\r\n",
       "</g>\r\n",
       "<!-- 25&#45;&gt;26 -->\r\n",
       "<g id=\"edge26\" class=\"edge\"><title>25&#45;&gt;26</title>\r\n",
       "<path fill=\"none\" stroke=\"black\" d=\"M1426.17,-103.726C1424.88,-95.4263 1423.52,-86.6671 1422.22,-78.2834\"/>\r\n",
       "<polygon fill=\"black\" stroke=\"black\" points=\"1425.66,-77.6442 1420.67,-68.2996 1418.75,-78.7182 1425.66,-77.6442\"/>\r\n",
       "</g>\r\n",
       "<!-- 27 -->\r\n",
       "<g id=\"node28\" class=\"node\"><title>27</title>\r\n",
       "<path fill=\"#e78c4b\" stroke=\"black\" d=\"M1608.5,-68C1608.5,-68 1510.5,-68 1510.5,-68 1504.5,-68 1498.5,-62 1498.5,-56 1498.5,-56 1498.5,-12 1498.5,-12 1498.5,-6 1504.5,-0 1510.5,-0 1510.5,-0 1608.5,-0 1608.5,-0 1614.5,-0 1620.5,-6 1620.5,-12 1620.5,-12 1620.5,-56 1620.5,-56 1620.5,-62 1614.5,-68 1608.5,-68\"/>\r\n",
       "<text text-anchor=\"start\" x=\"1522\" y=\"-52.8\" font-family=\"Helvetica,sans-Serif\" font-size=\"14.00\">gini = 0.153</text>\r\n",
       "<text text-anchor=\"start\" x=\"1512\" y=\"-37.8\" font-family=\"Helvetica,sans-Serif\" font-size=\"14.00\">samples = 163</text>\r\n",
       "<text text-anchor=\"start\" x=\"1506.5\" y=\"-22.8\" font-family=\"Helvetica,sans-Serif\" font-size=\"14.00\">value = [253, 23]</text>\r\n",
       "<text text-anchor=\"start\" x=\"1527\" y=\"-7.8\" font-family=\"Helvetica,sans-Serif\" font-size=\"14.00\">class = no</text>\r\n",
       "</g>\r\n",
       "<!-- 25&#45;&gt;27 -->\r\n",
       "<g id=\"edge27\" class=\"edge\"><title>25&#45;&gt;27</title>\r\n",
       "<path fill=\"none\" stroke=\"black\" d=\"M1479.79,-103.726C1490.69,-94.3318 1502.26,-84.349 1513.12,-74.9883\"/>\r\n",
       "<polygon fill=\"black\" stroke=\"black\" points=\"1515.59,-77.4804 1520.88,-68.2996 1511.02,-72.1789 1515.59,-77.4804\"/>\r\n",
       "</g>\r\n",
       "<!-- 29 -->\r\n",
       "<g id=\"node30\" class=\"node\"><title>29</title>\r\n",
       "<path fill=\"#eba06a\" stroke=\"black\" d=\"M1830,-187C1830,-187 1677,-187 1677,-187 1671,-187 1665,-181 1665,-175 1665,-175 1665,-116 1665,-116 1665,-110 1671,-104 1677,-104 1677,-104 1830,-104 1830,-104 1836,-104 1842,-110 1842,-116 1842,-116 1842,-175 1842,-175 1842,-181 1836,-187 1830,-187\"/>\r\n",
       "<text text-anchor=\"start\" x=\"1673\" y=\"-171.8\" font-family=\"Helvetica,sans-Serif\" font-size=\"14.00\">satisfaction_level ≤ 0.725</text>\r\n",
       "<text text-anchor=\"start\" x=\"1716\" y=\"-156.8\" font-family=\"Helvetica,sans-Serif\" font-size=\"14.00\">gini = 0.317</text>\r\n",
       "<text text-anchor=\"start\" x=\"1702\" y=\"-141.8\" font-family=\"Helvetica,sans-Serif\" font-size=\"14.00\">samples = 1795</text>\r\n",
       "<text text-anchor=\"start\" x=\"1692.5\" y=\"-126.8\" font-family=\"Helvetica,sans-Serif\" font-size=\"14.00\">value = [2238, 550]</text>\r\n",
       "<text text-anchor=\"start\" x=\"1721\" y=\"-111.8\" font-family=\"Helvetica,sans-Serif\" font-size=\"14.00\">class = no</text>\r\n",
       "</g>\r\n",
       "<!-- 28&#45;&gt;29 -->\r\n",
       "<g id=\"edge29\" class=\"edge\"><title>28&#45;&gt;29</title>\r\n",
       "<path fill=\"none\" stroke=\"black\" d=\"M1753.5,-222.907C1753.5,-214.649 1753.5,-205.864 1753.5,-197.302\"/>\r\n",
       "<polygon fill=\"black\" stroke=\"black\" points=\"1757,-197.021 1753.5,-187.021 1750,-197.021 1757,-197.021\"/>\r\n",
       "</g>\r\n",
       "<!-- 32 -->\r\n",
       "<g id=\"node33\" class=\"node\"><title>32</title>\r\n",
       "<path fill=\"#a1d1f3\" stroke=\"black\" d=\"M2076,-187C2076,-187 1923,-187 1923,-187 1917,-187 1911,-181 1911,-175 1911,-175 1911,-116 1911,-116 1911,-110 1917,-104 1923,-104 1923,-104 2076,-104 2076,-104 2082,-104 2088,-110 2088,-116 2088,-116 2088,-175 2088,-175 2088,-181 2082,-187 2076,-187\"/>\r\n",
       "<text text-anchor=\"start\" x=\"1919\" y=\"-171.8\" font-family=\"Helvetica,sans-Serif\" font-size=\"14.00\">satisfaction_level ≤ 0.715</text>\r\n",
       "<text text-anchor=\"start\" x=\"1962\" y=\"-156.8\" font-family=\"Helvetica,sans-Serif\" font-size=\"14.00\">gini = 0.452</text>\r\n",
       "<text text-anchor=\"start\" x=\"1952\" y=\"-141.8\" font-family=\"Helvetica,sans-Serif\" font-size=\"14.00\">samples = 120</text>\r\n",
       "<text text-anchor=\"start\" x=\"1946.5\" y=\"-126.8\" font-family=\"Helvetica,sans-Serif\" font-size=\"14.00\">value = [67, 127]</text>\r\n",
       "<text text-anchor=\"start\" x=\"1963.5\" y=\"-111.8\" font-family=\"Helvetica,sans-Serif\" font-size=\"14.00\">class = yes</text>\r\n",
       "</g>\r\n",
       "<!-- 28&#45;&gt;32 -->\r\n",
       "<g id=\"edge32\" class=\"edge\"><title>28&#45;&gt;32</title>\r\n",
       "<path fill=\"none\" stroke=\"black\" d=\"M1834.05,-225.19C1856.69,-214.423 1881.51,-202.616 1904.89,-191.498\"/>\r\n",
       "<polygon fill=\"black\" stroke=\"black\" points=\"1906.59,-194.566 1914.11,-187.111 1903.58,-188.245 1906.59,-194.566\"/>\r\n",
       "</g>\r\n",
       "<!-- 30 -->\r\n",
       "<g id=\"node31\" class=\"node\"><title>30</title>\r\n",
       "<path fill=\"#e68743\" stroke=\"black\" d=\"M1756.5,-68C1756.5,-68 1650.5,-68 1650.5,-68 1644.5,-68 1638.5,-62 1638.5,-56 1638.5,-56 1638.5,-12 1638.5,-12 1638.5,-6 1644.5,-0 1650.5,-0 1650.5,-0 1756.5,-0 1756.5,-0 1762.5,-0 1768.5,-6 1768.5,-12 1768.5,-12 1768.5,-56 1768.5,-56 1768.5,-62 1762.5,-68 1756.5,-68\"/>\r\n",
       "<text text-anchor=\"start\" x=\"1666\" y=\"-52.8\" font-family=\"Helvetica,sans-Serif\" font-size=\"14.00\">gini = 0.093</text>\r\n",
       "<text text-anchor=\"start\" x=\"1656\" y=\"-37.8\" font-family=\"Helvetica,sans-Serif\" font-size=\"14.00\">samples = 829</text>\r\n",
       "<text text-anchor=\"start\" x=\"1646.5\" y=\"-22.8\" font-family=\"Helvetica,sans-Serif\" font-size=\"14.00\">value = [1206, 62]</text>\r\n",
       "<text text-anchor=\"start\" x=\"1671\" y=\"-7.8\" font-family=\"Helvetica,sans-Serif\" font-size=\"14.00\">class = no</text>\r\n",
       "</g>\r\n",
       "<!-- 29&#45;&gt;30 -->\r\n",
       "<g id=\"edge30\" class=\"edge\"><title>29&#45;&gt;30</title>\r\n",
       "<path fill=\"none\" stroke=\"black\" d=\"M1734.88,-103.726C1730.97,-95.1527 1726.83,-86.0891 1722.89,-77.4555\"/>\r\n",
       "<polygon fill=\"black\" stroke=\"black\" points=\"1726.04,-75.9423 1718.71,-68.2996 1719.68,-78.85 1726.04,-75.9423\"/>\r\n",
       "</g>\r\n",
       "<!-- 31 -->\r\n",
       "<g id=\"node32\" class=\"node\"><title>31</title>\r\n",
       "<path fill=\"#f1bd97\" stroke=\"black\" d=\"M1912.5,-68C1912.5,-68 1798.5,-68 1798.5,-68 1792.5,-68 1786.5,-62 1786.5,-56 1786.5,-56 1786.5,-12 1786.5,-12 1786.5,-6 1792.5,-0 1798.5,-0 1798.5,-0 1912.5,-0 1912.5,-0 1918.5,-0 1924.5,-6 1924.5,-12 1924.5,-12 1924.5,-56 1924.5,-56 1924.5,-62 1918.5,-68 1912.5,-68\"/>\r\n",
       "<text text-anchor=\"start\" x=\"1818\" y=\"-52.8\" font-family=\"Helvetica,sans-Serif\" font-size=\"14.00\">gini = 0.436</text>\r\n",
       "<text text-anchor=\"start\" x=\"1808\" y=\"-37.8\" font-family=\"Helvetica,sans-Serif\" font-size=\"14.00\">samples = 966</text>\r\n",
       "<text text-anchor=\"start\" x=\"1794.5\" y=\"-22.8\" font-family=\"Helvetica,sans-Serif\" font-size=\"14.00\">value = [1032, 488]</text>\r\n",
       "<text text-anchor=\"start\" x=\"1823\" y=\"-7.8\" font-family=\"Helvetica,sans-Serif\" font-size=\"14.00\">class = no</text>\r\n",
       "</g>\r\n",
       "<!-- 29&#45;&gt;31 -->\r\n",
       "<g id=\"edge31\" class=\"edge\"><title>29&#45;&gt;31</title>\r\n",
       "<path fill=\"none\" stroke=\"black\" d=\"M1791.48,-103.726C1799.98,-94.6054 1808.99,-84.93 1817.49,-75.8078\"/>\r\n",
       "<polygon fill=\"black\" stroke=\"black\" points=\"1820.23,-78.0025 1824.48,-68.2996 1815.1,-73.2312 1820.23,-78.0025\"/>\r\n",
       "</g>\r\n",
       "<!-- 33 -->\r\n",
       "<g id=\"node34\" class=\"node\"><title>33</title>\r\n",
       "<path fill=\"#eda876\" stroke=\"black\" d=\"M2044,-68C2044,-68 1955,-68 1955,-68 1949,-68 1943,-62 1943,-56 1943,-56 1943,-12 1943,-12 1943,-6 1949,-0 1955,-0 1955,-0 2044,-0 2044,-0 2050,-0 2056,-6 2056,-12 2056,-12 2056,-56 2056,-56 2056,-62 2050,-68 2044,-68\"/>\r\n",
       "<text text-anchor=\"start\" x=\"1962\" y=\"-52.8\" font-family=\"Helvetica,sans-Serif\" font-size=\"14.00\">gini = 0.359</text>\r\n",
       "<text text-anchor=\"start\" x=\"1956\" y=\"-37.8\" font-family=\"Helvetica,sans-Serif\" font-size=\"14.00\">samples = 33</text>\r\n",
       "<text text-anchor=\"start\" x=\"1951\" y=\"-22.8\" font-family=\"Helvetica,sans-Serif\" font-size=\"14.00\">value = [36, 11]</text>\r\n",
       "<text text-anchor=\"start\" x=\"1967\" y=\"-7.8\" font-family=\"Helvetica,sans-Serif\" font-size=\"14.00\">class = no</text>\r\n",
       "</g>\r\n",
       "<!-- 32&#45;&gt;33 -->\r\n",
       "<g id=\"edge33\" class=\"edge\"><title>32&#45;&gt;33</title>\r\n",
       "<path fill=\"none\" stroke=\"black\" d=\"M1999.5,-103.726C1999.5,-95.5175 1999.5,-86.8595 1999.5,-78.56\"/>\r\n",
       "<polygon fill=\"black\" stroke=\"black\" points=\"2003,-78.2996 1999.5,-68.2996 1996,-78.2996 2003,-78.2996\"/>\r\n",
       "</g>\r\n",
       "<!-- 34 -->\r\n",
       "<g id=\"node35\" class=\"node\"><title>34</title>\r\n",
       "<path fill=\"#6eb7ec\" stroke=\"black\" d=\"M2184.5,-68C2184.5,-68 2086.5,-68 2086.5,-68 2080.5,-68 2074.5,-62 2074.5,-56 2074.5,-56 2074.5,-12 2074.5,-12 2074.5,-6 2080.5,-0 2086.5,-0 2086.5,-0 2184.5,-0 2184.5,-0 2190.5,-0 2196.5,-6 2196.5,-12 2196.5,-12 2196.5,-56 2196.5,-56 2196.5,-62 2190.5,-68 2184.5,-68\"/>\r\n",
       "<text text-anchor=\"start\" x=\"2098\" y=\"-52.8\" font-family=\"Helvetica,sans-Serif\" font-size=\"14.00\">gini = 0.333</text>\r\n",
       "<text text-anchor=\"start\" x=\"2092\" y=\"-37.8\" font-family=\"Helvetica,sans-Serif\" font-size=\"14.00\">samples = 87</text>\r\n",
       "<text text-anchor=\"start\" x=\"2082.5\" y=\"-22.8\" font-family=\"Helvetica,sans-Serif\" font-size=\"14.00\">value = [31, 116]</text>\r\n",
       "<text text-anchor=\"start\" x=\"2099.5\" y=\"-7.8\" font-family=\"Helvetica,sans-Serif\" font-size=\"14.00\">class = yes</text>\r\n",
       "</g>\r\n",
       "<!-- 32&#45;&gt;34 -->\r\n",
       "<g id=\"edge34\" class=\"edge\"><title>32&#45;&gt;34</title>\r\n",
       "<path fill=\"none\" stroke=\"black\" d=\"M2050.14,-103.726C2061.92,-94.2406 2074.45,-84.1551 2086.17,-74.7159\"/>\r\n",
       "<polygon fill=\"black\" stroke=\"black\" points=\"2088.55,-77.2972 2094.14,-68.2996 2084.16,-71.8448 2088.55,-77.2972\"/>\r\n",
       "</g>\r\n",
       "</g>\r\n",
       "</svg>\r\n"
      ],
      "text/plain": [
       "<graphviz.files.Source at 0x14ad402f208>"
      ]
     },
     "execution_count": 35,
     "metadata": {},
     "output_type": "execute_result"
    }
   ],
   "source": [
    "from sklearn.tree import export_graphviz\n",
    "import graphviz\n",
    "dot_data = export_graphviz(forest.estimators_[0], out_file=None, feature_names=features, class_names=['no', 'yes'], filled=True, rounded=True, special_characters=True)\n",
    "graph = graphviz.Source(dot_data)\n",
    "graph"
   ]
  },
  {
   "cell_type": "markdown",
   "metadata": {},
   "source": [
    "### Discussion\n",
    "Each path is limited to five nodes due to the depth setting. Orange boxes represent \"no\" predictions (i.e. has not left), whilst blue ones represent the \"left\" group (yes). The shade of each box is related to the \"gini\" value and represents the confidence level. Gini closer to zero represents higher confidence.\n",
    "\n",
    "As discussed above re: random forests, this tree picks features at each step and makes a decision based on whether a condition is true or false. At the start, we check if last evaluation was less than 0.575 and split the samples based on that. For the samples with a higher last evaluation value, we check if satisfaction level is less than 0.115. If so, then a \"yes\" (i.e. left the company) decision is made - this has a gini value of zero, i.e. high confidence. We can see that last_evaluation <= 0.575 and satisfaction_level <= 0.115 is within the \"left\" decision boundary of the graph above. However, for a higher satisfaction_level than 0.115, a \"no\" decision is made but with a lower confidence level (0.199). This means that the process continues - again, the tree splits the data and makes decisions based on true/false conditions. This continues up to a depth of five.\n",
    "\n",
    "The sklearn libraries automatically choose the splits that maximise information gain."
   ]
  },
  {
   "cell_type": "markdown",
   "metadata": {},
   "source": [
    "### 12 July 2020 - k fold cross-validation and validation curves\n",
    "Today, I am going to use k-fold cross-validation to assess the accuracy of models. The point of this is to determine which model out of several performs better. K-fold cross-validation can be used to compare different algorithms or it can be used to tune hyperparameters for a single algorithm. For example, the C value for a SVM model or the number of neighbours in a KNN classifier can be tuned by comparing alternative possible values using k-fold cross-validation.\n",
    "\n",
    "##### About k-fold cross-validation\n",
    "In the examples above, we used a training set to train each model and then made predictions on test data. In each case, the same split of data was used for training and testing. K-fold cross-validation involves splitting the data into k \"folds\" of about equal size. We then use k-1 folds as training data for k models, with the remaining fold being used as test data. That way, each fold is used as test data (i.e. for validation) once. We calculate accuracy by getting the mean and standard deviation of the accuracy values for each fold result.\n",
    "\n",
    "**When the best model has been identified, we retrain it using the entire dataset before using it to make predictions.**\n",
    "\n",
    "#### Stratified k-fold cross-validation\n",
    "sklearn allows us to use a method called \"stratified k-fold cross-validation\", which aims to even out the label population among the folds (i.e. so that the different labels are represented more equally among the different datasets). This reduces variance among the models and decreases the likelihood of bias due to unbalanced data.\n",
    "\n",
    "#### Validation curves\n",
    "Validation curves are simply plots of a training and validation metric as a function of a model parameter. These plots allow us to make parameter selections. The metric used in this example is the accuracy score. \n",
    "\n",
    "**More documentation for plot validation curves can be found in the [scikit-learn documentation](http://scikit-learn.org/stable/auto_examples/model_selection/plot_validation_curve.html)**\n",
    "\n",
    "When reading these plots, we try and find the point with the highest validation score where the error bars between the training and cross-validation scores overlap. This is the optimal value for the parameter we are testing. \n",
    "\n",
    "**Important: When we're tuning a particular parameter, we need to keep the other parameters constant. Otherwise the curve is not valid. In other words, the plots only work for testing one variable individually.** For example, we might be tuning gamma for an SVM. We might decide on the optimal gamma value and then start tuning the C parameter. When we change the C value, though, then the gamma selection might no longer be optimal."
   ]
  },
  {
   "cell_type": "code",
   "execution_count": 36,
   "metadata": {},
   "outputs": [],
   "source": [
    "# First step: Reload the data, as we are using k-folds\n",
    "# The previous part of the exercised used a train-test split that we're not using.\n",
    "df = pd.read_csv('./hr_data_preprocessed.csv')\n",
    "features = ['satisfaction_level', 'last_evaluation']\n",
    "X = df[features].values\n",
    "y = df.left.values"
   ]
  },
  {
   "cell_type": "code",
   "execution_count": 37,
   "metadata": {},
   "outputs": [
    {
     "data": {
      "text/html": [
       "<div>\n",
       "<style scoped>\n",
       "    .dataframe tbody tr th:only-of-type {\n",
       "        vertical-align: middle;\n",
       "    }\n",
       "\n",
       "    .dataframe tbody tr th {\n",
       "        vertical-align: top;\n",
       "    }\n",
       "\n",
       "    .dataframe thead th {\n",
       "        text-align: right;\n",
       "    }\n",
       "</style>\n",
       "<table border=\"1\" class=\"dataframe\">\n",
       "  <thead>\n",
       "    <tr style=\"text-align: right;\">\n",
       "      <th></th>\n",
       "      <th>satisfaction_level</th>\n",
       "      <th>last_evaluation</th>\n",
       "      <th>number_project</th>\n",
       "      <th>average_montly_hours</th>\n",
       "      <th>time_spend_company</th>\n",
       "      <th>work_accident</th>\n",
       "      <th>left</th>\n",
       "      <th>promotion_last_5years</th>\n",
       "      <th>department_IT</th>\n",
       "      <th>department_RandD</th>\n",
       "      <th>...</th>\n",
       "      <th>department_hr</th>\n",
       "      <th>department_management</th>\n",
       "      <th>department_marketing</th>\n",
       "      <th>department_product_mng</th>\n",
       "      <th>department_sales</th>\n",
       "      <th>department_support</th>\n",
       "      <th>department_technical</th>\n",
       "      <th>salary_high</th>\n",
       "      <th>salary_low</th>\n",
       "      <th>salary_medium</th>\n",
       "    </tr>\n",
       "  </thead>\n",
       "  <tbody>\n",
       "    <tr>\n",
       "      <th>0</th>\n",
       "      <td>0.38</td>\n",
       "      <td>0.53</td>\n",
       "      <td>2</td>\n",
       "      <td>157.000000</td>\n",
       "      <td>3.0</td>\n",
       "      <td>0</td>\n",
       "      <td>1</td>\n",
       "      <td>0</td>\n",
       "      <td>0</td>\n",
       "      <td>0</td>\n",
       "      <td>...</td>\n",
       "      <td>0</td>\n",
       "      <td>0</td>\n",
       "      <td>0</td>\n",
       "      <td>0</td>\n",
       "      <td>1</td>\n",
       "      <td>0</td>\n",
       "      <td>0</td>\n",
       "      <td>0</td>\n",
       "      <td>1</td>\n",
       "      <td>0</td>\n",
       "    </tr>\n",
       "    <tr>\n",
       "      <th>1</th>\n",
       "      <td>0.80</td>\n",
       "      <td>0.86</td>\n",
       "      <td>5</td>\n",
       "      <td>262.000000</td>\n",
       "      <td>6.0</td>\n",
       "      <td>0</td>\n",
       "      <td>1</td>\n",
       "      <td>0</td>\n",
       "      <td>0</td>\n",
       "      <td>0</td>\n",
       "      <td>...</td>\n",
       "      <td>0</td>\n",
       "      <td>0</td>\n",
       "      <td>0</td>\n",
       "      <td>0</td>\n",
       "      <td>1</td>\n",
       "      <td>0</td>\n",
       "      <td>0</td>\n",
       "      <td>0</td>\n",
       "      <td>0</td>\n",
       "      <td>1</td>\n",
       "    </tr>\n",
       "    <tr>\n",
       "      <th>2</th>\n",
       "      <td>0.11</td>\n",
       "      <td>0.88</td>\n",
       "      <td>7</td>\n",
       "      <td>272.000000</td>\n",
       "      <td>4.0</td>\n",
       "      <td>0</td>\n",
       "      <td>1</td>\n",
       "      <td>0</td>\n",
       "      <td>0</td>\n",
       "      <td>0</td>\n",
       "      <td>...</td>\n",
       "      <td>0</td>\n",
       "      <td>0</td>\n",
       "      <td>0</td>\n",
       "      <td>0</td>\n",
       "      <td>1</td>\n",
       "      <td>0</td>\n",
       "      <td>0</td>\n",
       "      <td>0</td>\n",
       "      <td>0</td>\n",
       "      <td>1</td>\n",
       "    </tr>\n",
       "    <tr>\n",
       "      <th>3</th>\n",
       "      <td>0.72</td>\n",
       "      <td>0.87</td>\n",
       "      <td>5</td>\n",
       "      <td>223.000000</td>\n",
       "      <td>5.0</td>\n",
       "      <td>0</td>\n",
       "      <td>1</td>\n",
       "      <td>0</td>\n",
       "      <td>0</td>\n",
       "      <td>0</td>\n",
       "      <td>...</td>\n",
       "      <td>0</td>\n",
       "      <td>0</td>\n",
       "      <td>0</td>\n",
       "      <td>0</td>\n",
       "      <td>1</td>\n",
       "      <td>0</td>\n",
       "      <td>0</td>\n",
       "      <td>0</td>\n",
       "      <td>1</td>\n",
       "      <td>0</td>\n",
       "    </tr>\n",
       "    <tr>\n",
       "      <th>4</th>\n",
       "      <td>0.37</td>\n",
       "      <td>0.52</td>\n",
       "      <td>2</td>\n",
       "      <td>160.163535</td>\n",
       "      <td>3.0</td>\n",
       "      <td>0</td>\n",
       "      <td>1</td>\n",
       "      <td>0</td>\n",
       "      <td>0</td>\n",
       "      <td>0</td>\n",
       "      <td>...</td>\n",
       "      <td>0</td>\n",
       "      <td>0</td>\n",
       "      <td>0</td>\n",
       "      <td>0</td>\n",
       "      <td>1</td>\n",
       "      <td>0</td>\n",
       "      <td>0</td>\n",
       "      <td>0</td>\n",
       "      <td>1</td>\n",
       "      <td>0</td>\n",
       "    </tr>\n",
       "  </tbody>\n",
       "</table>\n",
       "<p>5 rows × 21 columns</p>\n",
       "</div>"
      ],
      "text/plain": [
       "   satisfaction_level  last_evaluation  number_project  average_montly_hours  \\\n",
       "0                0.38             0.53               2            157.000000   \n",
       "1                0.80             0.86               5            262.000000   \n",
       "2                0.11             0.88               7            272.000000   \n",
       "3                0.72             0.87               5            223.000000   \n",
       "4                0.37             0.52               2            160.163535   \n",
       "\n",
       "   time_spend_company  work_accident  left  promotion_last_5years  \\\n",
       "0                 3.0              0     1                      0   \n",
       "1                 6.0              0     1                      0   \n",
       "2                 4.0              0     1                      0   \n",
       "3                 5.0              0     1                      0   \n",
       "4                 3.0              0     1                      0   \n",
       "\n",
       "   department_IT  department_RandD  ...  department_hr  department_management  \\\n",
       "0              0                 0  ...              0                      0   \n",
       "1              0                 0  ...              0                      0   \n",
       "2              0                 0  ...              0                      0   \n",
       "3              0                 0  ...              0                      0   \n",
       "4              0                 0  ...              0                      0   \n",
       "\n",
       "   department_marketing  department_product_mng  department_sales  \\\n",
       "0                     0                       0                 1   \n",
       "1                     0                       0                 1   \n",
       "2                     0                       0                 1   \n",
       "3                     0                       0                 1   \n",
       "4                     0                       0                 1   \n",
       "\n",
       "   department_support  department_technical  salary_high  salary_low  \\\n",
       "0                   0                     0            0           1   \n",
       "1                   0                     0            0           0   \n",
       "2                   0                     0            0           0   \n",
       "3                   0                     0            0           1   \n",
       "4                   0                     0            0           1   \n",
       "\n",
       "   salary_medium  \n",
       "0              0  \n",
       "1              1  \n",
       "2              1  \n",
       "3              0  \n",
       "4              0  \n",
       "\n",
       "[5 rows x 21 columns]"
      ]
     },
     "execution_count": 37,
     "metadata": {},
     "output_type": "execute_result"
    }
   ],
   "source": [
    "# Sanity check the data to make sure it's loaded correctly\n",
    "df.head()"
   ]
  },
  {
   "cell_type": "code",
   "execution_count": 38,
   "metadata": {},
   "outputs": [
    {
     "data": {
      "text/html": [
       "<div>\n",
       "<style scoped>\n",
       "    .dataframe tbody tr th:only-of-type {\n",
       "        vertical-align: middle;\n",
       "    }\n",
       "\n",
       "    .dataframe tbody tr th {\n",
       "        vertical-align: top;\n",
       "    }\n",
       "\n",
       "    .dataframe thead th {\n",
       "        text-align: right;\n",
       "    }\n",
       "</style>\n",
       "<table border=\"1\" class=\"dataframe\">\n",
       "  <thead>\n",
       "    <tr style=\"text-align: right;\">\n",
       "      <th></th>\n",
       "      <th>satisfaction_level</th>\n",
       "      <th>last_evaluation</th>\n",
       "      <th>number_project</th>\n",
       "      <th>average_montly_hours</th>\n",
       "      <th>time_spend_company</th>\n",
       "      <th>work_accident</th>\n",
       "      <th>left</th>\n",
       "      <th>promotion_last_5years</th>\n",
       "      <th>department_IT</th>\n",
       "      <th>department_RandD</th>\n",
       "      <th>...</th>\n",
       "      <th>department_hr</th>\n",
       "      <th>department_management</th>\n",
       "      <th>department_marketing</th>\n",
       "      <th>department_product_mng</th>\n",
       "      <th>department_sales</th>\n",
       "      <th>department_support</th>\n",
       "      <th>department_technical</th>\n",
       "      <th>salary_high</th>\n",
       "      <th>salary_low</th>\n",
       "      <th>salary_medium</th>\n",
       "    </tr>\n",
       "  </thead>\n",
       "  <tbody>\n",
       "    <tr>\n",
       "      <th>14994</th>\n",
       "      <td>0.40</td>\n",
       "      <td>0.57</td>\n",
       "      <td>2</td>\n",
       "      <td>151.0</td>\n",
       "      <td>3.0</td>\n",
       "      <td>0</td>\n",
       "      <td>1</td>\n",
       "      <td>0</td>\n",
       "      <td>0</td>\n",
       "      <td>0</td>\n",
       "      <td>...</td>\n",
       "      <td>0</td>\n",
       "      <td>0</td>\n",
       "      <td>0</td>\n",
       "      <td>0</td>\n",
       "      <td>0</td>\n",
       "      <td>1</td>\n",
       "      <td>0</td>\n",
       "      <td>0</td>\n",
       "      <td>1</td>\n",
       "      <td>0</td>\n",
       "    </tr>\n",
       "    <tr>\n",
       "      <th>14995</th>\n",
       "      <td>0.37</td>\n",
       "      <td>0.48</td>\n",
       "      <td>2</td>\n",
       "      <td>160.0</td>\n",
       "      <td>3.0</td>\n",
       "      <td>0</td>\n",
       "      <td>1</td>\n",
       "      <td>0</td>\n",
       "      <td>0</td>\n",
       "      <td>0</td>\n",
       "      <td>...</td>\n",
       "      <td>0</td>\n",
       "      <td>0</td>\n",
       "      <td>0</td>\n",
       "      <td>0</td>\n",
       "      <td>0</td>\n",
       "      <td>1</td>\n",
       "      <td>0</td>\n",
       "      <td>0</td>\n",
       "      <td>1</td>\n",
       "      <td>0</td>\n",
       "    </tr>\n",
       "    <tr>\n",
       "      <th>14996</th>\n",
       "      <td>0.37</td>\n",
       "      <td>0.53</td>\n",
       "      <td>2</td>\n",
       "      <td>143.0</td>\n",
       "      <td>3.0</td>\n",
       "      <td>0</td>\n",
       "      <td>1</td>\n",
       "      <td>0</td>\n",
       "      <td>0</td>\n",
       "      <td>0</td>\n",
       "      <td>...</td>\n",
       "      <td>0</td>\n",
       "      <td>0</td>\n",
       "      <td>0</td>\n",
       "      <td>0</td>\n",
       "      <td>0</td>\n",
       "      <td>1</td>\n",
       "      <td>0</td>\n",
       "      <td>0</td>\n",
       "      <td>1</td>\n",
       "      <td>0</td>\n",
       "    </tr>\n",
       "    <tr>\n",
       "      <th>14997</th>\n",
       "      <td>0.11</td>\n",
       "      <td>0.96</td>\n",
       "      <td>6</td>\n",
       "      <td>280.0</td>\n",
       "      <td>4.0</td>\n",
       "      <td>0</td>\n",
       "      <td>1</td>\n",
       "      <td>0</td>\n",
       "      <td>0</td>\n",
       "      <td>0</td>\n",
       "      <td>...</td>\n",
       "      <td>0</td>\n",
       "      <td>0</td>\n",
       "      <td>0</td>\n",
       "      <td>0</td>\n",
       "      <td>0</td>\n",
       "      <td>1</td>\n",
       "      <td>0</td>\n",
       "      <td>0</td>\n",
       "      <td>1</td>\n",
       "      <td>0</td>\n",
       "    </tr>\n",
       "    <tr>\n",
       "      <th>14998</th>\n",
       "      <td>0.37</td>\n",
       "      <td>0.52</td>\n",
       "      <td>2</td>\n",
       "      <td>158.0</td>\n",
       "      <td>3.0</td>\n",
       "      <td>0</td>\n",
       "      <td>1</td>\n",
       "      <td>0</td>\n",
       "      <td>0</td>\n",
       "      <td>0</td>\n",
       "      <td>...</td>\n",
       "      <td>0</td>\n",
       "      <td>0</td>\n",
       "      <td>0</td>\n",
       "      <td>0</td>\n",
       "      <td>0</td>\n",
       "      <td>1</td>\n",
       "      <td>0</td>\n",
       "      <td>0</td>\n",
       "      <td>1</td>\n",
       "      <td>0</td>\n",
       "    </tr>\n",
       "  </tbody>\n",
       "</table>\n",
       "<p>5 rows × 21 columns</p>\n",
       "</div>"
      ],
      "text/plain": [
       "       satisfaction_level  last_evaluation  number_project  \\\n",
       "14994                0.40             0.57               2   \n",
       "14995                0.37             0.48               2   \n",
       "14996                0.37             0.53               2   \n",
       "14997                0.11             0.96               6   \n",
       "14998                0.37             0.52               2   \n",
       "\n",
       "       average_montly_hours  time_spend_company  work_accident  left  \\\n",
       "14994                 151.0                 3.0              0     1   \n",
       "14995                 160.0                 3.0              0     1   \n",
       "14996                 143.0                 3.0              0     1   \n",
       "14997                 280.0                 4.0              0     1   \n",
       "14998                 158.0                 3.0              0     1   \n",
       "\n",
       "       promotion_last_5years  department_IT  department_RandD  ...  \\\n",
       "14994                      0              0                 0  ...   \n",
       "14995                      0              0                 0  ...   \n",
       "14996                      0              0                 0  ...   \n",
       "14997                      0              0                 0  ...   \n",
       "14998                      0              0                 0  ...   \n",
       "\n",
       "       department_hr  department_management  department_marketing  \\\n",
       "14994              0                      0                     0   \n",
       "14995              0                      0                     0   \n",
       "14996              0                      0                     0   \n",
       "14997              0                      0                     0   \n",
       "14998              0                      0                     0   \n",
       "\n",
       "       department_product_mng  department_sales  department_support  \\\n",
       "14994                       0                 0                   1   \n",
       "14995                       0                 0                   1   \n",
       "14996                       0                 0                   1   \n",
       "14997                       0                 0                   1   \n",
       "14998                       0                 0                   1   \n",
       "\n",
       "       department_technical  salary_high  salary_low  salary_medium  \n",
       "14994                     0            0           1              0  \n",
       "14995                     0            0           1              0  \n",
       "14996                     0            0           1              0  \n",
       "14997                     0            0           1              0  \n",
       "14998                     0            0           1              0  \n",
       "\n",
       "[5 rows x 21 columns]"
      ]
     },
     "execution_count": 38,
     "metadata": {},
     "output_type": "execute_result"
    }
   ],
   "source": [
    "df.tail()"
   ]
  },
  {
   "cell_type": "code",
   "execution_count": 39,
   "metadata": {},
   "outputs": [],
   "source": [
    "# Instantiate a random forest classifier\n",
    "clf = RandomForestClassifier(n_estimators=100, max_depth=5)"
   ]
  },
  {
   "cell_type": "code",
   "execution_count": 40,
   "metadata": {},
   "outputs": [
    {
     "name": "stdout",
     "output_type": "stream",
     "text": [
      "accuracy = 0.923 +/- 0.005\n"
     ]
    }
   ],
   "source": [
    "# Train ten variations of the classifier using stratified k-fold validation\n",
    "# sklearn's cross_val_score does this type of validation by default\n",
    "from sklearn.model_selection import cross_val_score\n",
    "import numpy as np\n",
    "np.random.seed(1)\n",
    "scores = cross_val_score(\n",
    "    estimator=clf,\n",
    "    X=X,\n",
    "    y=y,\n",
    "    cv=10\n",
    ")\n",
    "print('accuracy = {:.3f} +/- {:.3f}'.format(scores.mean(), scores.std()))"
   ]
  },
  {
   "cell_type": "code",
   "execution_count": 41,
   "metadata": {},
   "outputs": [
    {
     "name": "stdout",
     "output_type": "stream",
     "text": [
      "[0.934      0.91533333 0.92266667 0.91866667 0.92133333 0.92866667\n",
      " 0.91933333 0.92       0.928      0.92128085]\n"
     ]
    }
   ],
   "source": [
    "# Note we used np.random.seed to set the random seed to ensure reproducibility.\n",
    "# Let's check the accuracy for each individual fold by printing each score\n",
    "print(scores)"
   ]
  },
  {
   "cell_type": "code",
   "execution_count": 42,
   "metadata": {},
   "outputs": [],
   "source": [
    "# This doesn't say anything about the accuracy with respect to each class\n",
    "# To find this out, we can use the model_selection.StratifiedKFold class.\n",
    "# We feed in the number of folds as an initialisation parameter.\n",
    "# The split method is then used to build randomly-sampled \"masks\".\n",
    "# A mask is an array containing the indices of items in another array, so we can get the items using data[mask]\n",
    "\n",
    "from sklearn.model_selection import StratifiedKFold\n",
    "\n",
    "# Define a custom function for determining the scores\n",
    "def cross_val_class_score(clf, X, y, cv=10):\n",
    "    kfold = StratifiedKFold(n_splits=cv)\\\n",
    "                .split(X, y)\n",
    "\n",
    "    class_accuracy = []\n",
    "    for k, (train, test) in enumerate(kfold):\n",
    "        clf.fit(X[train], y[train])\n",
    "        y_test = y[test]\n",
    "        y_pred = clf.predict(X[test])\n",
    "        cmat = confusion_matrix(y_test, y_pred)\n",
    "        class_acc = cmat.diagonal()/cmat.sum(axis=1)\n",
    "        class_accuracy.append(class_acc)\n",
    "        print('fold: {:d} accuracy: {:s}'.format(k+1, str(class_acc)))\n",
    "        \n",
    "    return np.array(class_accuracy)"
   ]
  },
  {
   "cell_type": "code",
   "execution_count": 43,
   "metadata": {},
   "outputs": [
    {
     "name": "stdout",
     "output_type": "stream",
     "text": [
      "fold: 1 accuracy: [0.99124343 0.75139665]\n",
      "fold: 2 accuracy: [0.98950131 0.67787115]\n",
      "fold: 3 accuracy: [0.98950131 0.70868347]\n",
      "fold: 4 accuracy: [0.98600175 0.70308123]\n",
      "fold: 5 accuracy: [0.98512686 0.71708683]\n",
      "fold: 6 accuracy: [0.9816273  0.75910364]\n",
      "fold: 7 accuracy: [0.98862642 0.69747899]\n",
      "fold: 8 accuracy: [0.9816273  0.72268908]\n",
      "fold: 9 accuracy: [0.9903762  0.72829132]\n",
      "fold: 10 accuracy: [0.98861646 0.70588235]\n",
      "accuracy = [0.98722483 0.71715647] +/- [0.00330013 0.02326823]\n"
     ]
    }
   ],
   "source": [
    "# Run it\n",
    "np.random.seed(1)\n",
    "scores = cross_val_class_score(clf, X, y)\n",
    "\n",
    "print('accuracy = {} +/- {}'.format(scores.mean(axis=0), scores.std(axis=0)))"
   ]
  },
  {
   "cell_type": "markdown",
   "metadata": {},
   "source": [
    "### Discussion\n",
    "From this we can see that again, the accuracy for the \"left\" group is consistently less - again, not surprising given the unbalanced data.\n",
    "\n",
    "#### Plotting a validation curve for max_depth\n",
    "We want to find the optimal value for a parameter - for this example, we will draw the curve for max_depth."
   ]
  },
  {
   "cell_type": "code",
   "execution_count": 44,
   "metadata": {},
   "outputs": [],
   "source": [
    "from sklearn.model_selection import validation_curve\n",
    "clf = RandomForestClassifier(n_estimators=10)\n",
    "max_depths = np.arange(3, 16, 3)\n",
    "train_scores, test_scores = validation_curve(\n",
    "    estimator=clf,\n",
    "    X=X,\n",
    "    y=y,\n",
    "    param_name='max_depth',\n",
    "    param_range=max_depths,\n",
    "    cv=10\n",
    ")"
   ]
  },
  {
   "cell_type": "code",
   "execution_count": 45,
   "metadata": {},
   "outputs": [],
   "source": [
    "# Function to draw the validation curve\n",
    "import seaborn as sns\n",
    "import matplotlib.pyplot as plt\n",
    "\n",
    "def plot_validation_curve(train_scores, test_scores,\n",
    "                          param_range, xlabel='', log=False):\n",
    "    '''\n",
    "    This code is from the scikit-learn docs:\n",
    "    http://scikit-learn.org/stable/auto_examples/model_selection/plot_learning_curve.html\n",
    "    \n",
    "    See also here for sample code for hyperparameter tuning and model evaluation best practices:\n",
    "    https://github.com/rasbt/python-machine-learning-book-2nd-edition/blob/master/code/ch06/ch06.ipynb\n",
    "    '''\n",
    "    train_mean = np.mean(train_scores, axis=1)\n",
    "    train_std = np.std(train_scores, axis=1)\n",
    "    test_mean = np.mean(test_scores, axis=1)\n",
    "    test_std = np.std(test_scores, axis=1)\n",
    "\n",
    "    fig = plt.figure()\n",
    "    \n",
    "    plt.plot(param_range, train_mean, \n",
    "             color=sns.color_palette('Set1')[1], marker='o', \n",
    "             markersize=5, label='training accuracy')\n",
    "\n",
    "    plt.fill_between(param_range, train_mean + train_std,\n",
    "                     train_mean - train_std, alpha=0.15,\n",
    "                     color=sns.color_palette('Set1')[1])\n",
    "\n",
    "    plt.plot(param_range, test_mean, \n",
    "             color=sns.color_palette('Set1')[0], linestyle='--', \n",
    "             marker='s', markersize=5, \n",
    "             label='validation accuracy')\n",
    "\n",
    "    plt.fill_between(param_range, \n",
    "                     test_mean + test_std,\n",
    "                     test_mean - test_std, \n",
    "                     alpha=0.15, color=sns.color_palette('Set1')[0])\n",
    "\n",
    "    if log:\n",
    "        plt.xscale('log')\n",
    "    plt.legend(loc='lower right')\n",
    "    if xlabel:\n",
    "        plt.xlabel(xlabel)\n",
    "    plt.ylabel('Accuracy')\n",
    "    plt.ylim(0.9, 1.0)"
   ]
  },
  {
   "cell_type": "code",
   "execution_count": 46,
   "metadata": {},
   "outputs": [
    {
     "data": {
      "image/png": "[encoded data removed]",
      "text/plain": [
       "<Figure size 432x288 with 1 Axes>"
      ]
     },
     "metadata": {
      "needs_background": "light"
     },
     "output_type": "display_data"
    }
   ],
   "source": [
    "# Run the function\n",
    "plot_validation_curve(train_scores, test_scores, max_depths, xlabel='max_depth')"
   ]
  },
  {
   "cell_type": "markdown",
   "metadata": {},
   "source": [
    "### Discussion\n",
    "Setting the max depth for a decision tree limits overfitting - we can see this in the validation curve, where max_depth values above 6 show a lower validation accuracy than training accuracy. When max_depth is lower than 6, the model is underfitting the data.\n",
    "\n",
    "We used two techniques here to evaluate model accuracy: we used k-fold cross-validation to calculate the average accuracy and standard deviation. This allows us to gauge the variability of the model. We also used a validation curve to find the optimal value for a parameter - the curve shows the point at which overfitting is occurring.\n",
    "\n",
    "### Dimensionality reduction\n",
    "The final part of this exercise involves building the predictive model for the employee retention problem. However, we will improve the accuracy of the model by including all the features from the dataset, rather than just employee satisfaction and the last evaluation values. This requires dimensionality reduction, as there are many features.\n",
    "\n",
    "**A simple dimensionality reduction technique involves removing unimportant features. However, this requires us to drop data. More advanced methods exist, like *principal component analysis* and *linear discriminant analysis*.**\n",
    "\n",
    "Instead of completely dropping data, these techniques involve compressing data where important information from several features can be encoded in fewer features.\n",
    "\n",
    "**This example focuses on PCA.**\n",
    "\n",
    "#### Principal Component Analysis\n",
    "This technique transforms data by projecting it into a new subspace of orthogonal \"principal components\", where the components with the highest eigenvalues encode the most important information. We then select a few of these components and use these to train our model instead of the original high-dimensional dataset.\n",
    "\n",
    "##### Example: PCA and images\n",
    "We could use PCA to encode the information from every pixel in an image. Here, the original feature space would have dimensions equal to the number of pixels (e.g. a 10x10 image would have 100 pixels, so 100 features). We could reduce this with PCA to fewer features, which saves time and also eliminates noise by compressing less relevant data. With data such as images (that can get pretty big), these performance savings can be significant.\n",
    "\n",
    "### Plan for the last part of this exercise\n",
    "Remember the aim was to develop a model for predicting whether an employee is likely to leave the company. We were able to make predictions with 90% overall accuracy, but the accuracy was much lower for predictions for the \"left\" class.\n",
    "\n",
    "We will see if this can be improved by using the whole feature space. We will train a model both on the full feature space and on the features with PCA dimensionality reduction applied so that we can compare them."
   ]
  },
  {
   "cell_type": "code",
   "execution_count": 47,
   "metadata": {},
   "outputs": [
    {
     "data": {
      "text/plain": [
       "Index(['satisfaction_level', 'last_evaluation', 'number_project',\n",
       "       'average_montly_hours', 'time_spend_company', 'work_accident', 'left',\n",
       "       'promotion_last_5years', 'department_IT', 'department_RandD',\n",
       "       'department_accounting', 'department_hr', 'department_management',\n",
       "       'department_marketing', 'department_product_mng', 'department_sales',\n",
       "       'department_support', 'department_technical', 'salary_high',\n",
       "       'salary_low', 'salary_medium'],\n",
       "      dtype='object')"
      ]
     },
     "execution_count": 47,
     "metadata": {},
     "output_type": "execute_result"
    }
   ],
   "source": [
    "# Get the full list of all features\n",
    "df.columns"
   ]
  },
  {
   "cell_type": "code",
   "execution_count": 48,
   "metadata": {},
   "outputs": [
    {
     "name": "stdout",
     "output_type": "stream",
     "text": [
      "['satisfaction_level', 'last_evaluation', 'number_project', 'average_montly_hours', 'time_spend_company', 'work_accident', 'promotion_last_5years', 'department_IT', 'department_RandD', 'department_accounting', 'department_hr', 'department_management', 'department_marketing', 'department_product_mng', 'department_sales', 'department_support', 'department_technical', 'salary_high', 'salary_low', 'salary_medium']\n"
     ]
    }
   ],
   "source": [
    "# Declare an array holding the feature names except our target ('left').\n",
    "features = []\n",
    "for c in df.columns:\n",
    "    if c != 'left':\n",
    "        features.append(c)\n",
    "print(features)"
   ]
  },
  {
   "cell_type": "code",
   "execution_count": 49,
   "metadata": {},
   "outputs": [],
   "source": [
    "# Define X and y\n",
    "X = df[features].values\n",
    "y = df.left.values"
   ]
  },
  {
   "cell_type": "markdown",
   "metadata": {},
   "source": [
    "### Why we are using random forests for this\n",
    "When looking at the data for the features, we can see we have a mix of data types. Satisfaction level and last evaluation contain continuous data, which was used to train the models above. However, we also have some discrete features, such as number_project. Finally, there are binary fields such as work_accident and promotion_last_5years and binary features like department_IT, department_accounting ... department_x that we created using one-hot encoding. \n",
    "\n",
    "Random forests are good for feature mixes like this. They're compatible with feature sets composed of both continuous and discrete data. Though SVMs and KNNs can be trained on mixed data too, it requires preprocessing.\n",
    "\n",
    "[**Link to StackExchange answer discussing data-scaling prescription, which can be used to preprocess mixed feature type data for SVM and KNN classifiers**](https://stats.stackexchange.com/questions/82923/mixing-continuous-and-binary-data-with-linear-svm/83086#83086)\n",
    "\n",
    "Essentially, the preprocessing approach involves:\n",
    "- Standardising continuous variables.\n",
    "- One-hot-encoding categorical features.\n",
    "- Shifting binary values to -1 and 1 instead of 0 and 1.\n",
    "Mixed feature data can then train many classification models. \n",
    "\n",
    "#### First step: find out the best parameters for our model\n",
    "We will use a validation curve to tune max_depth. We will use 10 models and set k to 5, so we get five estimates for the accuracy of each model. "
   ]
  },
  {
   "cell_type": "code",
   "execution_count": 50,
   "metadata": {},
   "outputs": [
    {
     "name": "stdout",
     "output_type": "stream",
     "text": [
      "Wall time: 4.96 s\n"
     ]
    }
   ],
   "source": [
    "%%time\n",
    "import numpy as np\n",
    "np.random.seed(1)\n",
    "clf = RandomForestClassifier(n_estimators=20)\n",
    "max_depths = [3, 4, 5, 6, 7, 9, 12, 15, 18, 21]\n",
    "train_scores, test_scores = validation_curve(\n",
    "    estimator=clf,\n",
    "    X=X,\n",
    "    y=y,\n",
    "    param_name='max_depth',\n",
    "    param_range=max_depths,\n",
    "    cv=5\n",
    ");"
   ]
  },
  {
   "cell_type": "code",
   "execution_count": 51,
   "metadata": {},
   "outputs": [
    {
     "data": {
      "image/png": "[encoded data removed]",
      "text/plain": [
       "<Figure size 432x288 with 1 Axes>"
      ]
     },
     "metadata": {
      "needs_background": "light"
     },
     "output_type": "display_data"
    }
   ],
   "source": [
    "# Plot the validation curve\n",
    "plot_validation_curve(train_scores, test_scores, max_depths, xlabel='max_depth')"
   ]
  },
  {
   "cell_type": "code",
   "execution_count": 52,
   "metadata": {},
   "outputs": [],
   "source": [
    "# It looks like the optimal max_depth is around 6 - above this, overfitting occurs.\n",
    "# We will do the same thing for n_estimators\n",
    "np.random.seed(1)\n",
    "clf = RandomForestClassifier(max_depth=6)\n",
    "n_estimator_range = [10, 20, 40, 80, 120, 160, 200, 250, 300, 400]\n",
    "train_scores, test_scores = validation_curve(\n",
    "    estimator=clf,\n",
    "    X=X,\n",
    "    y=y,\n",
    "    param_name='n_estimators',\n",
    "    param_range=n_estimator_range,\n",
    "    cv=5\n",
    ");"
   ]
  },
  {
   "cell_type": "code",
   "execution_count": 53,
   "metadata": {},
   "outputs": [
    {
     "data": {
      "image/png": "[encoded data removed]",
      "text/plain": [
       "<Figure size 432x288 with 1 Axes>"
      ]
     },
     "metadata": {
      "needs_background": "light"
     },
     "output_type": "display_data"
    }
   ],
   "source": [
    "# Plot the curve\n",
    "plot_validation_curve(train_scores, test_scores, n_estimator_range, xlabel='n_estimators')"
   ]
  },
  {
   "cell_type": "markdown",
   "metadata": {},
   "source": [
    "**Note:** For random forests, it's usually better to use more decision tree estimators, but this takes more time. \n",
    "\n",
    "We can see from the plots that for a range between 10 and 400, there is little difference, but we get a decent accuracy at 150, so we will use that to train our model."
   ]
  },
  {
   "cell_type": "code",
   "execution_count": 54,
   "metadata": {},
   "outputs": [
    {
     "name": "stdout",
     "output_type": "stream",
     "text": [
      "fold: 1 accuracy: [0.99824869 0.89664804]\n",
      "fold: 2 accuracy: [0.99825022 0.83753501]\n",
      "fold: 3 accuracy: [0.99475066 0.8487395 ]\n",
      "fold: 4 accuracy: [0.99387577 0.78991597]\n",
      "fold: 5 accuracy: [0.99562555 0.83193277]\n",
      "fold: 6 accuracy: [0.99300087 0.84593838]\n",
      "fold: 7 accuracy: [0.99562555 0.88795518]\n",
      "fold: 8 accuracy: [0.99650044 0.8487395 ]\n",
      "fold: 9 accuracy: [0.99475066 0.90196078]\n",
      "fold: 10 accuracy: [0.99649737 0.90756303]\n",
      "accuracy = [0.99571258 0.85969282] +/- [0.00163405 0.03578005]\n"
     ]
    }
   ],
   "source": [
    "# Use cross_val_class_score to test the model, a random forest with max_depth=6 and n_estimators=200\n",
    "np.random.seed(1)\n",
    "clf = RandomForestClassifier(n_estimators=150, max_depth=6)\n",
    "scores = cross_val_class_score(clf, X, y)\n",
    "print('accuracy = {} +/- {}'.format(scores.mean(axis=0), scores.std(axis=0)))"
   ]
  },
  {
   "cell_type": "code",
   "execution_count": 55,
   "metadata": {},
   "outputs": [
    {
     "data": {
      "image/png": "[encoded data removed]",
      "text/plain": [
       "<Figure size 360x504 with 1 Axes>"
      ]
     },
     "metadata": {
      "needs_background": "light"
     },
     "output_type": "display_data"
    }
   ],
   "source": [
    "# Using all the features produces higher accuracy. Let's draw a box plot to visualise it\n",
    "fig = plt.figure(figsize=(5, 7))\n",
    "sns.boxplot(data=pd.DataFrame(scores, columns=[0,1]), palette=sns.color_palette('Set1'))\n",
    "plt.xlabel('Left')\n",
    "plt.ylabel('Accuracy')\n",
    "plt.show()"
   ]
  },
  {
   "cell_type": "markdown",
   "metadata": {},
   "source": [
    "### Discussion\n",
    "Note that the accuracy for the \"remained\" category is consistently high - small distribution close to 1. The accuracy for \"left\" is still lower, but the average is around 85% and the lowest accuracy is around 78% - much better than what we were getting before.\n",
    "\n",
    "**Random forests can provide an estimate of feature importance.** Scikit-learn calculates feature importance based on how the node impurity changes with respect to each feature. See [this StackOverflow thread](https://stackoverflow.com/questions/15810339/how-are-feature-importances-in-randomforestclassifier-determined). In short, it uses \"gini importance\" or \"mean decrease impurity\" - the total decrease in node impurity weighted by the probability of reaching that node averaged over all trees of the ensemble. "
   ]
  },
  {
   "cell_type": "code",
   "execution_count": 56,
   "metadata": {},
   "outputs": [
    {
     "data": {
      "text/plain": [
       "Text(0.5, 0, 'Feature importance')"
      ]
     },
     "execution_count": 56,
     "metadata": {},
     "output_type": "execute_result"
    },
    {
     "data": {
      "image/png": "[encoded data removed]",
      "text/plain": [
       "<Figure size 432x288 with 1 Axes>"
      ]
     },
     "metadata": {
      "needs_background": "light"
     },
     "output_type": "display_data"
    }
   ],
   "source": [
    "# Plot the feature importance as calculated by scikit-learn\n",
    "pd.Series(clf.feature_importances_, name='Feature importance', index=df[features].columns).sort_values().plot.barh()\n",
    "plt.xlabel('Feature importance')"
   ]
  },
  {
   "cell_type": "markdown",
   "metadata": {},
   "source": [
    "### Discussion\n",
    "The one-hot-encoded variables (i.e. department and salary) aren't giving much value, nor is work_accident or promotion_last_5years. We will use PCA to condense these features into a few principal components."
   ]
  },
  {
   "cell_type": "code",
   "execution_count": 57,
   "metadata": {},
   "outputs": [
    {
     "data": {
      "text/plain": [
       "array(['work_accident', 'salary_low', 'salary_high', 'salary_medium',\n",
       "       'department_RandD', 'promotion_last_5years',\n",
       "       'department_technical', 'department_sales', 'department_hr',\n",
       "       'department_support', 'department_management',\n",
       "       'department_accounting', 'department_marketing',\n",
       "       'department_product_mng', 'department_IT'], dtype='<U22')"
      ]
     },
     "execution_count": 57,
     "metadata": {},
     "output_type": "execute_result"
    }
   ],
   "source": [
    "# First, grab the features with low importance\n",
    "importances = list(pd.Series(clf.feature_importances_, index=df[features].columns).sort_values(ascending=False).index)\n",
    "np.array(importances[5:])"
   ]
  },
  {
   "cell_type": "code",
   "execution_count": 58,
   "metadata": {},
   "outputs": [],
   "source": [
    "# Import the PCA class and transform the features\n",
    "from sklearn.decomposition import PCA\n",
    "\n",
    "pca_features = ['work_accident', 'salary_low', 'salary_high', 'salary_medium',\n",
    "       'promotion_last_5years', 'department_RandD', 'department_hr',\n",
    "       'department_technical', 'department_support',\n",
    "       'department_management', 'department_sales',\n",
    "       'department_accounting', 'department_IT', 'department_product_mng',\n",
    "       'department_marketing']\n",
    "X_reduce = df[pca_features]\n",
    "pca = PCA(n_components=3)\n",
    "X_pca = pca.fit_transform(X_reduce)"
   ]
  },
  {
   "cell_type": "code",
   "execution_count": 59,
   "metadata": {},
   "outputs": [
    {
     "data": {
      "text/plain": [
       "array([[-0.67733089,  0.75837169, -0.10493685],\n",
       "       [ 0.73616575,  0.77155888, -0.11046422],\n",
       "       [ 0.73616575,  0.77155888, -0.11046422],\n",
       "       ...,\n",
       "       [-0.67157059, -0.3337546 ,  0.70975452],\n",
       "       [-0.67157059, -0.3337546 ,  0.70975452],\n",
       "       [-0.67157059, -0.3337546 ,  0.70975452]])"
      ]
     },
     "execution_count": 59,
     "metadata": {},
     "output_type": "execute_result"
    }
   ],
   "source": [
    "# Print X_pca - we should get 3 vectors as we  asked for the top 3 components\n",
    "X_pca"
   ]
  },
  {
   "cell_type": "code",
   "execution_count": 60,
   "metadata": {},
   "outputs": [],
   "source": [
    "# Add the new features to our DataFrame.\n",
    "df['first_principal_component'] = X_pca.T[0]\n",
    "df['second_principal_component'] = X_pca.T[1]\n",
    "df['third_principal_component'] = X_pca.T[2]"
   ]
  },
  {
   "cell_type": "code",
   "execution_count": 61,
   "metadata": {},
   "outputs": [],
   "source": [
    "# Train a new Random Forest using our reduced-dimension feature set\n",
    "features = ['satisfaction_level', 'number_project', 'time_spend_company', 'average_montly_hours', 'last_evaluation', 'first_principal_component', 'second_principal_component', 'third_principal_component']\n",
    "X = df[features].values\n",
    "y = df.left.values"
   ]
  },
  {
   "cell_type": "code",
   "execution_count": 62,
   "metadata": {},
   "outputs": [
    {
     "name": "stdout",
     "output_type": "stream",
     "text": [
      "fold: 1 accuracy: [0.99737303 0.91340782]\n",
      "fold: 2 accuracy: [0.99825022 0.87955182]\n",
      "fold: 3 accuracy: [0.99737533 0.89915966]\n",
      "fold: 4 accuracy: [0.99300087 0.91036415]\n",
      "fold: 5 accuracy: [0.99300087 0.88795518]\n",
      "fold: 6 accuracy: [0.99562555 0.90196078]\n",
      "fold: 7 accuracy: [0.99737533 0.92436975]\n",
      "fold: 8 accuracy: [0.99387577 0.89635854]\n",
      "fold: 9 accuracy: [0.99475066 0.92436975]\n",
      "fold: 10 accuracy: [0.99562172 0.91316527]\n",
      "accuracy = [0.99562493 0.90506627] +/- [0.00183497 0.01404501]\n"
     ]
    }
   ],
   "source": [
    "# Assess the model's accuracy with k-fold cross validation\n",
    "# We use the same code as before, but X now points to the reduced set of features\n",
    "np.random.seed(1)\n",
    "clf = RandomForestClassifier(n_estimators=150, max_depth=6)\n",
    "scores = cross_val_class_score(clf, X, y)\n",
    "print('accuracy = {} +/- {}'.format(scores.mean(axis=0), scores.std(axis=0)))"
   ]
  },
  {
   "cell_type": "code",
   "execution_count": 63,
   "metadata": {},
   "outputs": [
    {
     "data": {
      "image/png": "[encoded data removed]",
      "text/plain": [
       "<Figure size 360x504 with 1 Axes>"
      ]
     },
     "metadata": {
      "needs_background": "light"
     },
     "output_type": "display_data"
    }
   ],
   "source": [
    "# Visualise using a box plot\n",
    "fig = plt.figure(figsize=(5, 7))\n",
    "sns.boxplot(data=pd.DataFrame(scores, columns=[0,1]), palette=sns.color_palette('Set1'))\n",
    "plt.xlabel('Left')\n",
    "plt.ylabel('Accuracy')\n",
    "plt.show()"
   ]
  },
  {
   "cell_type": "markdown",
   "metadata": {},
   "source": [
    "### Discussion\n",
    "Compared to the previous result, the accuracy for class 1 (\"left\") is improved - more than half of the validation sets return accuracy of >90%. We will use this as our final model, as it has the best accuracy. Before dimensionality reduction, average accuracy was about 86%."
   ]
  },
  {
   "cell_type": "code",
   "execution_count": 64,
   "metadata": {},
   "outputs": [
    {
     "data": {
      "text/plain": [
       "RandomForestClassifier(max_depth=6, n_estimators=150)"
      ]
     },
     "execution_count": 64,
     "metadata": {},
     "output_type": "execute_result"
    }
   ],
   "source": [
    "# Train the final model\n",
    "np.random.seed(1)\n",
    "clf = RandomForestClassifier(n_estimators=150, max_depth=6)\n",
    "clf.fit(X, y)"
   ]
  },
  {
   "cell_type": "code",
   "execution_count": 65,
   "metadata": {},
   "outputs": [
    {
     "data": {
      "text/plain": [
       "['random-forest-trained-employee-retention-problem.pkl']"
      ]
     },
     "execution_count": 65,
     "metadata": {},
     "output_type": "execute_result"
    }
   ],
   "source": [
    "# Save the trained model to a binary file\n",
    "import joblib\n",
    "joblib.dump(clf, 'random-forest-trained-employee-retention-problem.pkl')"
   ]
  },
  {
   "cell_type": "code",
   "execution_count": 66,
   "metadata": {},
   "outputs": [],
   "source": [
    "# Try loading the model\n",
    "clf = joblib.load('random-forest-trained-employee-retention-problem.pkl')"
   ]
  },
  {
   "cell_type": "markdown",
   "metadata": {},
   "source": [
    "### Use the model\n",
    "We will use the model to predict whether an employee - who we will call Sandra - is likely to leave. She has been working long hours and reported low satisfaction. We will take her data from the training set, but pretend that it's unseen data (this is just an example - in real life, we would be using actual unseen data)."
   ]
  },
  {
   "cell_type": "code",
   "execution_count": 67,
   "metadata": {},
   "outputs": [
    {
     "data": {
      "text/plain": [
       "satisfaction_level              0.360000\n",
       "number_project                  2.000000\n",
       "time_spend_company              3.000000\n",
       "average_montly_hours          148.000000\n",
       "last_evaluation                 0.470000\n",
       "first_principal_component       0.742801\n",
       "second_principal_component     -0.514568\n",
       "third_principal_component      -0.677421\n",
       "Name: 573, dtype: float64"
      ]
     },
     "execution_count": 67,
     "metadata": {},
     "output_type": "execute_result"
    }
   ],
   "source": [
    "# List the feature values\n",
    "sandra = df.iloc[573]\n",
    "X = sandra[features]\n",
    "X"
   ]
  },
  {
   "cell_type": "code",
   "execution_count": 68,
   "metadata": {},
   "outputs": [
    {
     "data": {
      "text/plain": [
       "array([1], dtype=int64)"
      ]
     },
     "execution_count": 68,
     "metadata": {},
     "output_type": "execute_result"
    }
   ],
   "source": [
    "# Predict whether Sandra will leave - first, run the classification\n",
    "clf.predict([X])"
   ]
  },
  {
   "cell_type": "code",
   "execution_count": 69,
   "metadata": {},
   "outputs": [
    {
     "data": {
      "text/plain": [
       "array([[0.07197009, 0.92802991]])"
      ]
     },
     "execution_count": 69,
     "metadata": {},
     "output_type": "execute_result"
    }
   ],
   "source": [
    "# The model predicts that she has already left. \n",
    "# We can calculate the probabilities of each class label.\n",
    "clf.predict_proba([X])"
   ]
  },
  {
   "cell_type": "code",
   "execution_count": 70,
   "metadata": {},
   "outputs": [
    {
     "data": {
      "text/plain": [
       "array([[0.62221839, 0.37778161]])"
      ]
     },
     "execution_count": 70,
     "metadata": {},
     "output_type": "execute_result"
    }
   ],
   "source": [
    "# Let's try reducing her hours to 100, her number of projects to 1 and the time she spends at the company to 1\n",
    "X.average_montly_hours = 100\n",
    "X.number_project = 1\n",
    "X.time_spend_company = 1\n",
    "clf.predict_proba([X])"
   ]
  },
  {
   "cell_type": "markdown",
   "metadata": {},
   "source": [
    "### Summary\n",
    "This example demonstrates how data-driven decisions can be made by training models and making predictions using them. \n",
    "\n",
    "This exercise demonstrates the following (broad) things:\n",
    "- How to plan a machine learning strategy\n",
    "- How to prepare and clean data so that it can be used for ML using sklearn and pandas\n",
    "- How to use sklearn to train 3 different classifiers - SVMs, KNN and random forests\n",
    "- How to identify overfitting from decision region plots\n",
    "- How to test the accuracy of models using k-fold cross-validation\n",
    "- How to tune model hyperparameters using validation curves\n",
    "- Dimensionality reduction for improving model performance\n",
    "- How to use trained models to make data-driven decisions."
   ]
  },
  {
   "cell_type": "code",
   "execution_count": null,
   "metadata": {},
   "outputs": [],
   "source": []
  }
 ],
 "metadata": {
  "kernelspec": {
   "display_name": "Python 3",
   "language": "python",
   "name": "python3"
  },
  "language_info": {
   "codemirror_mode": {
    "name": "ipython",
    "version": 3
   },
   "file_extension": ".py",
   "mimetype": "text/x-python",
   "name": "python",
   "nbconvert_exporter": "python",
   "pygments_lexer": "ipython3",
   "version": "3.7.7"
  }
 },
 "nbformat": 4,
 "nbformat_minor": 4
}
